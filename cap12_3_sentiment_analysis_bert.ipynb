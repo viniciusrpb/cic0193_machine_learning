{
  "nbformat": 4,
  "nbformat_minor": 0,
  "metadata": {
    "colab": {
      "name": "cap12_3_sentiment_analysis_bert.ipynb",
      "provenance": [],
      "collapsed_sections": [],
      "authorship_tag": "ABX9TyMFrl0zoNlzcxA6ilHZp8RE",
      "include_colab_link": true
    },
    "kernelspec": {
      "name": "python3",
      "display_name": "Python 3"
    },
    "language_info": {
      "name": "python"
    },
    "accelerator": "GPU"
  },
  "cells": [
    {
      "cell_type": "markdown",
      "metadata": {
        "id": "view-in-github",
        "colab_type": "text"
      },
      "source": [
        "<a href=\"https://colab.research.google.com/github/viniciusrpb/cic0193_machine_learning/blob/main/cap12_3_sentiment_analysis_bert.ipynb\" target=\"_parent\"><img src=\"https://colab.research.google.com/assets/colab-badge.svg\" alt=\"Open In Colab\"/></a>"
      ]
    },
    {
      "cell_type": "markdown",
      "source": [
        "# Capítulo 12 - Transformers\n",
        "\n",
        "\n",
        "### Tarefa: classificação de polaridade em tweets\n",
        "\n",
        "Classificar um *tweet* em alguma das três polaridades: positiva (*positive*), negativa (*negative*) e positiva (*neutral*).\n",
        "\n",
        "Fonte (TensorFlow Hub):\n",
        "\n",
        "https://www.tensorflow.org/text/tutorials/classify_text_with_bert\n",
        "\n",
        "### O *corpus*\n",
        "\n",
        "Para isso, vamos precisar utilizar as bibliotecas keras, tensorflow, numpy, sklearn, matplotlib.\n",
        "\n",
        "Fonte: [SemEval-2013 Task 2: Sentiment Analysis in Twitter](https://aclanthology.org/S13-2052/)\n",
        "\n",
        "O *corpus* de tweets empregado nesse estudo de caso podem ser acessados na pasta \"corpus_tweets\" deste repositório. Segue a especificação de cada arquivo:\n",
        "\n",
        "*   ```twitter-2013train-A.txt```: conjunto de tweets para treinamento\n",
        "*   ```twitter-2013dev-A.txt```: conjunto de tweets para validação\n",
        "*   ```twitter-2013test-A.txt```: conjunto de tweets para testes"
      ],
      "metadata": {
        "id": "IipByK9A-0GD"
      }
    },
    {
      "cell_type": "code",
      "metadata": {
        "id": "AuV9oScUNg6G"
      },
      "source": [
        "#!pip install -U keras\n",
        "#!pip install -U tensorflow\n",
        "#!pip install transformers\n",
        "#!pip install tensorflow_text\n",
        "#!pip install -q -U \"tensorflow-text==2.8.*\""
      ],
      "execution_count": 1,
      "outputs": []
    },
    {
      "cell_type": "markdown",
      "source": [
        "Importando as classes necessárias a partir das bibliotecas"
      ],
      "metadata": {
        "id": "WWVshYwOMSFz"
      }
    },
    {
      "cell_type": "code",
      "source": [
        "import pandas as pd\n",
        "from sklearn.feature_extraction.text import TfidfVectorizer\n",
        "from sklearn.model_selection import train_test_split\n",
        "from keras.models import Model\n",
        "from keras.layers import Dense,Activation,Input\n",
        "from tensorflow.keras.optimizers import SGD,Adam\n",
        "from sklearn.metrics import classification_report\n",
        "import numpy as np\n",
        "import matplotlib.pyplot as plt\n",
        "import transformers\n",
        "print(transformers.__version__)\n",
        "import tensorflow as tf\n",
        "import tensorflow_hub as hub\n",
        "import tensorflow_text as text"
      ],
      "metadata": {
        "id": "GETnhj__U_Iy",
        "colab": {
          "base_uri": "https://localhost:8080/"
        },
        "outputId": "034151a1-7812-4b25-8844-37eef60c9693"
      },
      "execution_count": 2,
      "outputs": [
        {
          "output_type": "stream",
          "name": "stdout",
          "text": [
            "4.18.0\n"
          ]
        }
      ]
    },
    {
      "cell_type": "markdown",
      "source": [
        "### Carregamento do corpus para Pandas DataFrames\n",
        "\n",
        "\n",
        "\n",
        "**PS.:** Mais informações sobre a divisão de um conjunto de dados em treinamento, validação e teste, você encontra nesse [link](https://machinelearningmastery.com/difference-test-validation-datasets/).\n"
      ],
      "metadata": {
        "id": "fp0s4KlqiQUq"
      }
    },
    {
      "cell_type": "code",
      "source": [
        "path_train = 'twitter-2013train-A.txt'\n",
        "path_valid = 'twitter-2013dev-A.txt'\n",
        "path_test = 'twitter-2013test-A.txt'"
      ],
      "metadata": {
        "id": "MY8M1KY0TpiW"
      },
      "execution_count": 3,
      "outputs": []
    },
    {
      "cell_type": "code",
      "source": [
        "df_train = pd.read_csv(path_train, names=[\"id\",\"polarity\",\"text\"],encoding='utf8', sep='\\t')\n",
        "df_valid = pd.read_csv(path_valid, names=[\"id\",\"polarity\",\"text\"],encoding='utf8', sep='\\t')\n",
        "df_test = pd.read_csv(path_test, names=[\"id\",\"polarity\",\"text\"],encoding='utf8', sep='\\t')"
      ],
      "metadata": {
        "id": "2MJ0FVjpkEHG"
      },
      "execution_count": 4,
      "outputs": []
    },
    {
      "cell_type": "code",
      "source": [
        "df_train"
      ],
      "metadata": {
        "colab": {
          "base_uri": "https://localhost:8080/",
          "height": 424
        },
        "id": "uq2wnaK6fRVh",
        "outputId": "de481db8-a0e4-4aba-f5d2-c9d331c36c99"
      },
      "execution_count": 5,
      "outputs": [
        {
          "output_type": "execute_result",
          "data": {
            "text/plain": [
              "                      id  polarity  \\\n",
              "0     264183816548130816  positive   \n",
              "1     263405084770172928  negative   \n",
              "2     262163168678248449  negative   \n",
              "3     264249301910310912  negative   \n",
              "4     262682041215234048   neutral   \n",
              "...                  ...       ...   \n",
              "9679  103158179306807296  positive   \n",
              "9680  103157324096618497  positive   \n",
              "9681  100259220338905089   neutral   \n",
              "9682  104230318525001729  positive   \n",
              "9683  100461938533863424  negative   \n",
              "\n",
              "                                                   text  \n",
              "0     Gas by my house hit $3.39!!!! I\\u2019m going t...  \n",
              "1     Theo Walcott is still shit\\u002c watch Rafa an...  \n",
              "2     its not that I\\u2019m a GSP fan\\u002c i just h...  \n",
              "3     Iranian general says Israel\\u2019s Iron Dome c...  \n",
              "4     Tehran\\u002c Mon Amour: Obama Tried to Establi...  \n",
              "...                                                 ...  \n",
              "9679  RT @MNFootNg It's monday and Monday Night Foot...  \n",
              "9680  All I know is the road for that Lomardi start ...  \n",
              "9681  All Blue and White fam, we r meeting at Golden...  \n",
              "9682  @DariusButler28   Have a great game agaist Tam...  \n",
              "9683  I'm pisseeedddd that I missed Kid Cudi's show ...  \n",
              "\n",
              "[9684 rows x 3 columns]"
            ],
            "text/html": [
              "\n",
              "  <div id=\"df-0b5ab62b-3956-49d5-a84a-8f4d7f669a8c\">\n",
              "    <div class=\"colab-df-container\">\n",
              "      <div>\n",
              "<style scoped>\n",
              "    .dataframe tbody tr th:only-of-type {\n",
              "        vertical-align: middle;\n",
              "    }\n",
              "\n",
              "    .dataframe tbody tr th {\n",
              "        vertical-align: top;\n",
              "    }\n",
              "\n",
              "    .dataframe thead th {\n",
              "        text-align: right;\n",
              "    }\n",
              "</style>\n",
              "<table border=\"1\" class=\"dataframe\">\n",
              "  <thead>\n",
              "    <tr style=\"text-align: right;\">\n",
              "      <th></th>\n",
              "      <th>id</th>\n",
              "      <th>polarity</th>\n",
              "      <th>text</th>\n",
              "    </tr>\n",
              "  </thead>\n",
              "  <tbody>\n",
              "    <tr>\n",
              "      <th>0</th>\n",
              "      <td>264183816548130816</td>\n",
              "      <td>positive</td>\n",
              "      <td>Gas by my house hit $3.39!!!! I\\u2019m going t...</td>\n",
              "    </tr>\n",
              "    <tr>\n",
              "      <th>1</th>\n",
              "      <td>263405084770172928</td>\n",
              "      <td>negative</td>\n",
              "      <td>Theo Walcott is still shit\\u002c watch Rafa an...</td>\n",
              "    </tr>\n",
              "    <tr>\n",
              "      <th>2</th>\n",
              "      <td>262163168678248449</td>\n",
              "      <td>negative</td>\n",
              "      <td>its not that I\\u2019m a GSP fan\\u002c i just h...</td>\n",
              "    </tr>\n",
              "    <tr>\n",
              "      <th>3</th>\n",
              "      <td>264249301910310912</td>\n",
              "      <td>negative</td>\n",
              "      <td>Iranian general says Israel\\u2019s Iron Dome c...</td>\n",
              "    </tr>\n",
              "    <tr>\n",
              "      <th>4</th>\n",
              "      <td>262682041215234048</td>\n",
              "      <td>neutral</td>\n",
              "      <td>Tehran\\u002c Mon Amour: Obama Tried to Establi...</td>\n",
              "    </tr>\n",
              "    <tr>\n",
              "      <th>...</th>\n",
              "      <td>...</td>\n",
              "      <td>...</td>\n",
              "      <td>...</td>\n",
              "    </tr>\n",
              "    <tr>\n",
              "      <th>9679</th>\n",
              "      <td>103158179306807296</td>\n",
              "      <td>positive</td>\n",
              "      <td>RT @MNFootNg It's monday and Monday Night Foot...</td>\n",
              "    </tr>\n",
              "    <tr>\n",
              "      <th>9680</th>\n",
              "      <td>103157324096618497</td>\n",
              "      <td>positive</td>\n",
              "      <td>All I know is the road for that Lomardi start ...</td>\n",
              "    </tr>\n",
              "    <tr>\n",
              "      <th>9681</th>\n",
              "      <td>100259220338905089</td>\n",
              "      <td>neutral</td>\n",
              "      <td>All Blue and White fam, we r meeting at Golden...</td>\n",
              "    </tr>\n",
              "    <tr>\n",
              "      <th>9682</th>\n",
              "      <td>104230318525001729</td>\n",
              "      <td>positive</td>\n",
              "      <td>@DariusButler28   Have a great game agaist Tam...</td>\n",
              "    </tr>\n",
              "    <tr>\n",
              "      <th>9683</th>\n",
              "      <td>100461938533863424</td>\n",
              "      <td>negative</td>\n",
              "      <td>I'm pisseeedddd that I missed Kid Cudi's show ...</td>\n",
              "    </tr>\n",
              "  </tbody>\n",
              "</table>\n",
              "<p>9684 rows × 3 columns</p>\n",
              "</div>\n",
              "      <button class=\"colab-df-convert\" onclick=\"convertToInteractive('df-0b5ab62b-3956-49d5-a84a-8f4d7f669a8c')\"\n",
              "              title=\"Convert this dataframe to an interactive table.\"\n",
              "              style=\"display:none;\">\n",
              "        \n",
              "  <svg xmlns=\"http://www.w3.org/2000/svg\" height=\"24px\"viewBox=\"0 0 24 24\"\n",
              "       width=\"24px\">\n",
              "    <path d=\"M0 0h24v24H0V0z\" fill=\"none\"/>\n",
              "    <path d=\"M18.56 5.44l.94 2.06.94-2.06 2.06-.94-2.06-.94-.94-2.06-.94 2.06-2.06.94zm-11 1L8.5 8.5l.94-2.06 2.06-.94-2.06-.94L8.5 2.5l-.94 2.06-2.06.94zm10 10l.94 2.06.94-2.06 2.06-.94-2.06-.94-.94-2.06-.94 2.06-2.06.94z\"/><path d=\"M17.41 7.96l-1.37-1.37c-.4-.4-.92-.59-1.43-.59-.52 0-1.04.2-1.43.59L10.3 9.45l-7.72 7.72c-.78.78-.78 2.05 0 2.83L4 21.41c.39.39.9.59 1.41.59.51 0 1.02-.2 1.41-.59l7.78-7.78 2.81-2.81c.8-.78.8-2.07 0-2.86zM5.41 20L4 18.59l7.72-7.72 1.47 1.35L5.41 20z\"/>\n",
              "  </svg>\n",
              "      </button>\n",
              "      \n",
              "  <style>\n",
              "    .colab-df-container {\n",
              "      display:flex;\n",
              "      flex-wrap:wrap;\n",
              "      gap: 12px;\n",
              "    }\n",
              "\n",
              "    .colab-df-convert {\n",
              "      background-color: #E8F0FE;\n",
              "      border: none;\n",
              "      border-radius: 50%;\n",
              "      cursor: pointer;\n",
              "      display: none;\n",
              "      fill: #1967D2;\n",
              "      height: 32px;\n",
              "      padding: 0 0 0 0;\n",
              "      width: 32px;\n",
              "    }\n",
              "\n",
              "    .colab-df-convert:hover {\n",
              "      background-color: #E2EBFA;\n",
              "      box-shadow: 0px 1px 2px rgba(60, 64, 67, 0.3), 0px 1px 3px 1px rgba(60, 64, 67, 0.15);\n",
              "      fill: #174EA6;\n",
              "    }\n",
              "\n",
              "    [theme=dark] .colab-df-convert {\n",
              "      background-color: #3B4455;\n",
              "      fill: #D2E3FC;\n",
              "    }\n",
              "\n",
              "    [theme=dark] .colab-df-convert:hover {\n",
              "      background-color: #434B5C;\n",
              "      box-shadow: 0px 1px 3px 1px rgba(0, 0, 0, 0.15);\n",
              "      filter: drop-shadow(0px 1px 2px rgba(0, 0, 0, 0.3));\n",
              "      fill: #FFFFFF;\n",
              "    }\n",
              "  </style>\n",
              "\n",
              "      <script>\n",
              "        const buttonEl =\n",
              "          document.querySelector('#df-0b5ab62b-3956-49d5-a84a-8f4d7f669a8c button.colab-df-convert');\n",
              "        buttonEl.style.display =\n",
              "          google.colab.kernel.accessAllowed ? 'block' : 'none';\n",
              "\n",
              "        async function convertToInteractive(key) {\n",
              "          const element = document.querySelector('#df-0b5ab62b-3956-49d5-a84a-8f4d7f669a8c');\n",
              "          const dataTable =\n",
              "            await google.colab.kernel.invokeFunction('convertToInteractive',\n",
              "                                                     [key], {});\n",
              "          if (!dataTable) return;\n",
              "\n",
              "          const docLinkHtml = 'Like what you see? Visit the ' +\n",
              "            '<a target=\"_blank\" href=https://colab.research.google.com/notebooks/data_table.ipynb>data table notebook</a>'\n",
              "            + ' to learn more about interactive tables.';\n",
              "          element.innerHTML = '';\n",
              "          dataTable['output_type'] = 'display_data';\n",
              "          await google.colab.output.renderOutput(dataTable, element);\n",
              "          const docLink = document.createElement('div');\n",
              "          docLink.innerHTML = docLinkHtml;\n",
              "          element.appendChild(docLink);\n",
              "        }\n",
              "      </script>\n",
              "    </div>\n",
              "  </div>\n",
              "  "
            ]
          },
          "metadata": {},
          "execution_count": 5
        }
      ]
    },
    {
      "cell_type": "markdown",
      "source": [
        "Informações sobre cada parte do *corpus* de tweets:"
      ],
      "metadata": {
        "id": "oXUO88MRwdcY"
      }
    },
    {
      "cell_type": "code",
      "source": [
        "print(f\"O conjunto de treinamento possui {df_train.shape[0]} tweets\")\n",
        "print(f\"O conjunto de validação possui {df_valid.shape[0]} tweets\")\n",
        "print(f\"O conjunto de testes possui {df_test.shape[0]} tweets\")"
      ],
      "metadata": {
        "colab": {
          "base_uri": "https://localhost:8080/"
        },
        "id": "Le_z-K3-wivo",
        "outputId": "447b147f-97bf-4117-cb03-aa2b69ecdc1b"
      },
      "execution_count": 6,
      "outputs": [
        {
          "output_type": "stream",
          "name": "stdout",
          "text": [
            "O conjunto de treinamento possui 9684 tweets\n",
            "O conjunto de validação possui 1654 tweets\n",
            "O conjunto de testes possui 3547 tweets\n"
          ]
        }
      ]
    },
    {
      "cell_type": "markdown",
      "source": [
        "### Pré-processamento dos Tweets\n",
        "\n",
        "Remove o atributo **id**, pois não será necessário o uso desse atributo no processo de classificação.\n",
        "\n"
      ],
      "metadata": {
        "id": "cycRNw7tfZLZ"
      }
    },
    {
      "cell_type": "code",
      "source": [
        "df_train.drop(labels=['id'],axis=1)\n",
        "df_valid.drop(labels=['id'],axis=1)\n",
        "df_test.drop(labels=['id'],axis=1)"
      ],
      "metadata": {
        "colab": {
          "base_uri": "https://localhost:8080/",
          "height": 424
        },
        "id": "W4ZbUgNheyGK",
        "outputId": "c06c5b26-aba6-4f52-e864-912aea2383d8"
      },
      "execution_count": 7,
      "outputs": [
        {
          "output_type": "execute_result",
          "data": {
            "text/plain": [
              "      polarity                                               text\n",
              "0     positive  @jjuueellzz down in the Atlantic city, ventnor...\n",
              "1     positive  Musical awareness: Great Big Beautiful Tomorro...\n",
              "2      neutral  On Radio786 100.4fm 7:10 Fri Oct 19 Labour ana...\n",
              "3     negative  Kapan sih lo ngebuktiin,jan ngomong doang Susa...\n",
              "4      neutral  Excuse the connectivity of this live stream, f...\n",
              "...        ...                                                ...\n",
              "3542  negative  Khaleda Zia's present India visit may have a b...\n",
              "3543   neutral  FYI, golf fans: @jameslepp will join Moj on We...\n",
              "3544  negative  @__Aniko you think mr.Calle let practice with ...\n",
              "3545  positive  Don't hide under your desk! It's just a salsa ...\n",
              "3546   neutral  Saturday flashmob on the music of The Runaways...\n",
              "\n",
              "[3547 rows x 2 columns]"
            ],
            "text/html": [
              "\n",
              "  <div id=\"df-3992cba7-7e45-4213-8710-be8715408f27\">\n",
              "    <div class=\"colab-df-container\">\n",
              "      <div>\n",
              "<style scoped>\n",
              "    .dataframe tbody tr th:only-of-type {\n",
              "        vertical-align: middle;\n",
              "    }\n",
              "\n",
              "    .dataframe tbody tr th {\n",
              "        vertical-align: top;\n",
              "    }\n",
              "\n",
              "    .dataframe thead th {\n",
              "        text-align: right;\n",
              "    }\n",
              "</style>\n",
              "<table border=\"1\" class=\"dataframe\">\n",
              "  <thead>\n",
              "    <tr style=\"text-align: right;\">\n",
              "      <th></th>\n",
              "      <th>polarity</th>\n",
              "      <th>text</th>\n",
              "    </tr>\n",
              "  </thead>\n",
              "  <tbody>\n",
              "    <tr>\n",
              "      <th>0</th>\n",
              "      <td>positive</td>\n",
              "      <td>@jjuueellzz down in the Atlantic city, ventnor...</td>\n",
              "    </tr>\n",
              "    <tr>\n",
              "      <th>1</th>\n",
              "      <td>positive</td>\n",
              "      <td>Musical awareness: Great Big Beautiful Tomorro...</td>\n",
              "    </tr>\n",
              "    <tr>\n",
              "      <th>2</th>\n",
              "      <td>neutral</td>\n",
              "      <td>On Radio786 100.4fm 7:10 Fri Oct 19 Labour ana...</td>\n",
              "    </tr>\n",
              "    <tr>\n",
              "      <th>3</th>\n",
              "      <td>negative</td>\n",
              "      <td>Kapan sih lo ngebuktiin,jan ngomong doang Susa...</td>\n",
              "    </tr>\n",
              "    <tr>\n",
              "      <th>4</th>\n",
              "      <td>neutral</td>\n",
              "      <td>Excuse the connectivity of this live stream, f...</td>\n",
              "    </tr>\n",
              "    <tr>\n",
              "      <th>...</th>\n",
              "      <td>...</td>\n",
              "      <td>...</td>\n",
              "    </tr>\n",
              "    <tr>\n",
              "      <th>3542</th>\n",
              "      <td>negative</td>\n",
              "      <td>Khaleda Zia's present India visit may have a b...</td>\n",
              "    </tr>\n",
              "    <tr>\n",
              "      <th>3543</th>\n",
              "      <td>neutral</td>\n",
              "      <td>FYI, golf fans: @jameslepp will join Moj on We...</td>\n",
              "    </tr>\n",
              "    <tr>\n",
              "      <th>3544</th>\n",
              "      <td>negative</td>\n",
              "      <td>@__Aniko you think mr.Calle let practice with ...</td>\n",
              "    </tr>\n",
              "    <tr>\n",
              "      <th>3545</th>\n",
              "      <td>positive</td>\n",
              "      <td>Don't hide under your desk! It's just a salsa ...</td>\n",
              "    </tr>\n",
              "    <tr>\n",
              "      <th>3546</th>\n",
              "      <td>neutral</td>\n",
              "      <td>Saturday flashmob on the music of The Runaways...</td>\n",
              "    </tr>\n",
              "  </tbody>\n",
              "</table>\n",
              "<p>3547 rows × 2 columns</p>\n",
              "</div>\n",
              "      <button class=\"colab-df-convert\" onclick=\"convertToInteractive('df-3992cba7-7e45-4213-8710-be8715408f27')\"\n",
              "              title=\"Convert this dataframe to an interactive table.\"\n",
              "              style=\"display:none;\">\n",
              "        \n",
              "  <svg xmlns=\"http://www.w3.org/2000/svg\" height=\"24px\"viewBox=\"0 0 24 24\"\n",
              "       width=\"24px\">\n",
              "    <path d=\"M0 0h24v24H0V0z\" fill=\"none\"/>\n",
              "    <path d=\"M18.56 5.44l.94 2.06.94-2.06 2.06-.94-2.06-.94-.94-2.06-.94 2.06-2.06.94zm-11 1L8.5 8.5l.94-2.06 2.06-.94-2.06-.94L8.5 2.5l-.94 2.06-2.06.94zm10 10l.94 2.06.94-2.06 2.06-.94-2.06-.94-.94-2.06-.94 2.06-2.06.94z\"/><path d=\"M17.41 7.96l-1.37-1.37c-.4-.4-.92-.59-1.43-.59-.52 0-1.04.2-1.43.59L10.3 9.45l-7.72 7.72c-.78.78-.78 2.05 0 2.83L4 21.41c.39.39.9.59 1.41.59.51 0 1.02-.2 1.41-.59l7.78-7.78 2.81-2.81c.8-.78.8-2.07 0-2.86zM5.41 20L4 18.59l7.72-7.72 1.47 1.35L5.41 20z\"/>\n",
              "  </svg>\n",
              "      </button>\n",
              "      \n",
              "  <style>\n",
              "    .colab-df-container {\n",
              "      display:flex;\n",
              "      flex-wrap:wrap;\n",
              "      gap: 12px;\n",
              "    }\n",
              "\n",
              "    .colab-df-convert {\n",
              "      background-color: #E8F0FE;\n",
              "      border: none;\n",
              "      border-radius: 50%;\n",
              "      cursor: pointer;\n",
              "      display: none;\n",
              "      fill: #1967D2;\n",
              "      height: 32px;\n",
              "      padding: 0 0 0 0;\n",
              "      width: 32px;\n",
              "    }\n",
              "\n",
              "    .colab-df-convert:hover {\n",
              "      background-color: #E2EBFA;\n",
              "      box-shadow: 0px 1px 2px rgba(60, 64, 67, 0.3), 0px 1px 3px 1px rgba(60, 64, 67, 0.15);\n",
              "      fill: #174EA6;\n",
              "    }\n",
              "\n",
              "    [theme=dark] .colab-df-convert {\n",
              "      background-color: #3B4455;\n",
              "      fill: #D2E3FC;\n",
              "    }\n",
              "\n",
              "    [theme=dark] .colab-df-convert:hover {\n",
              "      background-color: #434B5C;\n",
              "      box-shadow: 0px 1px 3px 1px rgba(0, 0, 0, 0.15);\n",
              "      filter: drop-shadow(0px 1px 2px rgba(0, 0, 0, 0.3));\n",
              "      fill: #FFFFFF;\n",
              "    }\n",
              "  </style>\n",
              "\n",
              "      <script>\n",
              "        const buttonEl =\n",
              "          document.querySelector('#df-3992cba7-7e45-4213-8710-be8715408f27 button.colab-df-convert');\n",
              "        buttonEl.style.display =\n",
              "          google.colab.kernel.accessAllowed ? 'block' : 'none';\n",
              "\n",
              "        async function convertToInteractive(key) {\n",
              "          const element = document.querySelector('#df-3992cba7-7e45-4213-8710-be8715408f27');\n",
              "          const dataTable =\n",
              "            await google.colab.kernel.invokeFunction('convertToInteractive',\n",
              "                                                     [key], {});\n",
              "          if (!dataTable) return;\n",
              "\n",
              "          const docLinkHtml = 'Like what you see? Visit the ' +\n",
              "            '<a target=\"_blank\" href=https://colab.research.google.com/notebooks/data_table.ipynb>data table notebook</a>'\n",
              "            + ' to learn more about interactive tables.';\n",
              "          element.innerHTML = '';\n",
              "          dataTable['output_type'] = 'display_data';\n",
              "          await google.colab.output.renderOutput(dataTable, element);\n",
              "          const docLink = document.createElement('div');\n",
              "          docLink.innerHTML = docLinkHtml;\n",
              "          element.appendChild(docLink);\n",
              "        }\n",
              "      </script>\n",
              "    </div>\n",
              "  </div>\n",
              "  "
            ]
          },
          "metadata": {},
          "execution_count": 7
        }
      ]
    },
    {
      "cell_type": "markdown",
      "source": [
        "Além disso, por questões do uso dos métodos da classe Sequential no Keras-Tensorflow, convertemos o atributo de classe para o tipo categórico e para cada instância, mapeamos seus valores para números inteiros. Lembre-se que os **modelos de aprendizado de máquina processam apenas números inteiros ou reais**."
      ],
      "metadata": {
        "id": "Plz1Pm15ztNO"
      }
    },
    {
      "cell_type": "code",
      "source": [
        "df_train['polarity'] = pd.Categorical(df_train['polarity'])\n",
        "df_valid['polarity'] = pd.Categorical(df_valid['polarity'])\n",
        "df_test['polarity'] = pd.Categorical(df_test['polarity'])\n",
        "\n",
        "y_train = df_train['polarity'].cat.codes\n",
        "y_valid = df_valid['polarity'].cat.codes\n",
        "y_test = df_test['polarity'].cat.codes"
      ],
      "metadata": {
        "id": "4MbE7PZqztrV"
      },
      "execution_count": 8,
      "outputs": []
    },
    {
      "cell_type": "markdown",
      "source": [
        "Vamos ver como e repare que o mapeamento do atributo categórico \"polarity\" para valores categóricos inteiros ficou como:\n",
        "\n",
        "*   polaridade \"negativa\" *(negative)*: valor $0$\n",
        "*   polaridade \"neutra\" *(neutral)*: valor $1$\n",
        "*   polaridade \"positiva\" *(positive)*: valor $2$"
      ],
      "metadata": {
        "id": "soW04sEVto_b"
      }
    },
    {
      "cell_type": "code",
      "source": [
        "for i in range(0,5):\n",
        "    v = df_train['polarity'][i]\n",
        "    print(f'Valor original da classe {v} Transformação inteira: {y_train[i]}')"
      ],
      "metadata": {
        "colab": {
          "base_uri": "https://localhost:8080/"
        },
        "id": "4LxkFq1ttpRZ",
        "outputId": "6589e0c0-d73a-4d33-b7ad-d85c34cfc165"
      },
      "execution_count": 9,
      "outputs": [
        {
          "output_type": "stream",
          "name": "stdout",
          "text": [
            "Valor original da classe positive Transformação inteira: 2\n",
            "Valor original da classe negative Transformação inteira: 0\n",
            "Valor original da classe negative Transformação inteira: 0\n",
            "Valor original da classe negative Transformação inteira: 0\n",
            "Valor original da classe neutral Transformação inteira: 1\n"
          ]
        }
      ]
    },
    {
      "cell_type": "markdown",
      "source": [
        "A seguir, transformamos os valores da classe \"polaridade\", nossa classe de interesse, para one-hot-encoding. Nessa representação, como temos três classes, utilizaremos três bits, em que para cada instância, apenas um deles estará ativado (com valor $1$) com base na presença do valor classe.\n",
        "\n",
        "Veja como fica a representação one-hot encoding para cada classe:\n",
        "\n",
        "*   polaridade \"negativa\" *(negative)*: valor $0$, one hot encoding: $[1,0,0]$\n",
        "*   polaridade \"neutra\" *(neutral)*: valor $1$, one hot encoding: $[0,1,0]$\n",
        "*   polaridade \"positiva\" *(positive)*: valor $2$, one hot encoding: $[0,0,1]$\n",
        "\n",
        "Utilizaremos a função *to_categorical* do Keras para esse propósito (se bem que poderíamos facilmente implementar uma por nossa conta):"
      ],
      "metadata": {
        "id": "qRN-0SW50IG0"
      }
    },
    {
      "cell_type": "code",
      "source": [
        "from keras.utils.np_utils import to_categorical\n",
        "\n",
        "num_classes = 3\n",
        "\n",
        "y_train_enc = to_categorical(y_train,3)\n",
        "y_valid_enc = to_categorical(y_valid,3)\n",
        "y_test_enc = to_categorical(y_test,3)"
      ],
      "metadata": {
        "id": "bZqJdMXW0INV"
      },
      "execution_count": 10,
      "outputs": []
    },
    {
      "cell_type": "markdown",
      "source": [
        "Apenas verificando como ficou o pré-processamento do atributo de classe:"
      ],
      "metadata": {
        "id": "ONGb3W5ky3Sv"
      }
    },
    {
      "cell_type": "code",
      "source": [
        "for i in range(0,5):\n",
        "    v = df_train['polarity'][i]\n",
        "    print(f\"Tweet {i}: valor original da classe '{v}'; mapeamento para inteiro: {y_train[i]}; representação one-hot-encoding [{int(y_train_enc[i][0])},{int(y_train_enc[i][1])},{int(y_train_enc[i][2])}]\")"
      ],
      "metadata": {
        "colab": {
          "base_uri": "https://localhost:8080/"
        },
        "id": "4qWlGYzJxb-s",
        "outputId": "5d5bea7b-f66b-4ed1-c517-0e01be42c174"
      },
      "execution_count": 11,
      "outputs": [
        {
          "output_type": "stream",
          "name": "stdout",
          "text": [
            "Tweet 0: valor original da classe 'positive'; mapeamento para inteiro: 2; representação one-hot-encoding [0,0,1]\n",
            "Tweet 1: valor original da classe 'negative'; mapeamento para inteiro: 0; representação one-hot-encoding [1,0,0]\n",
            "Tweet 2: valor original da classe 'negative'; mapeamento para inteiro: 0; representação one-hot-encoding [1,0,0]\n",
            "Tweet 3: valor original da classe 'negative'; mapeamento para inteiro: 0; representação one-hot-encoding [1,0,0]\n",
            "Tweet 4: valor original da classe 'neutral'; mapeamento para inteiro: 1; representação one-hot-encoding [0,1,0]\n"
          ]
        }
      ]
    },
    {
      "cell_type": "markdown",
      "source": [
        "### Extração de características dos tweets\n",
        "\n",
        " Bidirectional Encoder Representations from Transformers (BERT). The BERT architecture is composed of several Transformer encoders stacked together. Further, each Transformer encoder is composed of two sub-layers: a feed-forward layer and a self-attention layer.\n",
        "\n",
        " Primeiramente, fazemos os downloads do modelo BERT de referência:\n"
      ],
      "metadata": {
        "id": "Q_mzac_gfstB"
      }
    },
    {
      "cell_type": "code",
      "source": [
        "bert_model_name = 'bert_en_uncased_L-12_H-768_A-12'\n",
        "tfhub_handle_encoder = 'https://tfhub.dev/tensorflow/bert_en_uncased_L-12_H-768_A-12/3'\n",
        "tfhub_handle_preprocess = 'https://tfhub.dev/tensorflow/bert_en_uncased_preprocess/3'\n",
        "\n",
        "print(f'BERT model selected           : {tfhub_handle_encoder}')\n",
        "print(f'Preprocess model auto-selected: {tfhub_handle_preprocess}')"
      ],
      "metadata": {
        "colab": {
          "base_uri": "https://localhost:8080/"
        },
        "id": "aDstcaHEZtrR",
        "outputId": "b67f3d3c-d3c9-4abb-f4d6-75a1feeb069e"
      },
      "execution_count": 12,
      "outputs": [
        {
          "output_type": "stream",
          "name": "stdout",
          "text": [
            "BERT model selected           : https://tfhub.dev/tensorflow/bert_en_uncased_L-12_H-768_A-12/3\n",
            "Preprocess model auto-selected: https://tfhub.dev/tensorflow/bert_en_uncased_preprocess/3\n"
          ]
        }
      ]
    },
    {
      "cell_type": "code",
      "source": [
        "bert_preprocess = hub.KerasLayer(tfhub_handle_preprocess)\n",
        "bert_encoder = hub.KerasLayer(tfhub_handle_encoder )"
      ],
      "metadata": {
        "id": "hsvvNT4EPHmM"
      },
      "execution_count": 13,
      "outputs": []
    },
    {
      "cell_type": "markdown",
      "source": [
        "Colocamos as instâncias (juntamente com seus atributos TF-IDF) nas respectivas matrizes $X$ (para cada tipo de dados), em que cada linha de $X$ está associada a um *tweet*. Repare que as classes (labels, rótulos etc) já foram separadas anteriormente e estão armazenadas nas variáveis ```y```. Por exemplo, a instância de treinamento $\\mathbf{x_i}$, denotada por ```X_train[i]``` é da classe ```y_train[i]``` $\\in \\{0,1,2\\}$."
      ],
      "metadata": {
        "id": "GGw9jEA2gCTn"
      }
    },
    {
      "cell_type": "code",
      "source": [
        "X_train = df_train['text'].values\n",
        "X_valid = df_valid['text'].values\n",
        "X_test = df_test['text'].values"
      ],
      "metadata": {
        "id": "kXNL8-WsT6wl"
      },
      "execution_count": 14,
      "outputs": []
    },
    {
      "cell_type": "code",
      "source": [
        "X_train[0]"
      ],
      "metadata": {
        "colab": {
          "base_uri": "https://localhost:8080/",
          "height": 35
        },
        "id": "PssUon-vRx-t",
        "outputId": "8c87d162-e69f-42b7-86cc-eaad4827a30f"
      },
      "execution_count": 15,
      "outputs": [
        {
          "output_type": "execute_result",
          "data": {
            "text/plain": [
              "'Gas by my house hit $3.39!!!! I\\\\u2019m going to Chapel Hill on Sat. :)'"
            ],
            "application/vnd.google.colaboratory.intrinsic+json": {
              "type": "string"
            }
          },
          "metadata": {},
          "execution_count": 15
        }
      ]
    },
    {
      "cell_type": "code",
      "source": [
        "sample = [X_train[0]]\n",
        "text_preprocessed = bert_preprocess(sample)\n",
        "\n",
        "print(f'Keys       : {list(text_preprocessed.keys())}')\n",
        "print(f'Shape      : {text_preprocessed[\"input_word_ids\"].shape}')\n",
        "print(f'Word Ids   : {text_preprocessed[\"input_word_ids\"][0, :12]}')\n",
        "print(f'Input Mask : {text_preprocessed[\"input_mask\"][0, :12]}')\n",
        "print(f'Type Ids   : {text_preprocessed[\"input_type_ids\"][0, :12]}')\n",
        "\n",
        "bert_model = hub.KerasLayer(tfhub_handle_encoder)\n",
        "\n",
        "bert_results = bert_model(text_preprocessed)\n",
        "\n",
        "print(f'Loaded BERT: {tfhub_handle_encoder}')\n",
        "print(f'Pooled Outputs Shape:{bert_results[\"pooled_output\"].shape}')\n",
        "print(f'Pooled Outputs Values:{bert_results[\"pooled_output\"][0, :12]}')\n",
        "print(f'Sequence Outputs Shape:{bert_results[\"sequence_output\"].shape}')\n",
        "print(f'Sequence Outputs Values:{bert_results[\"sequence_output\"][0, :12]}')"
      ],
      "metadata": {
        "colab": {
          "base_uri": "https://localhost:8080/"
        },
        "id": "ml-OM3S4b1kQ",
        "outputId": "f2e55507-485d-4360-e425-3eaba25dabb8"
      },
      "execution_count": 16,
      "outputs": [
        {
          "output_type": "stream",
          "name": "stdout",
          "text": [
            "Keys       : ['input_word_ids', 'input_type_ids', 'input_mask']\n",
            "Shape      : (1, 128)\n",
            "Word Ids   : [ 101 3806 2011 2026 2160 2718 1002 1017 1012 4464  999  999]\n",
            "Input Mask : [1 1 1 1 1 1 1 1 1 1 1 1]\n",
            "Type Ids   : [0 0 0 0 0 0 0 0 0 0 0 0]\n",
            "Loaded BERT: https://tfhub.dev/tensorflow/bert_en_uncased_L-12_H-768_A-12/3\n",
            "Pooled Outputs Shape:(1, 768)\n",
            "Pooled Outputs Values:[-0.80570227 -0.44450724 -0.5561      0.6081393   0.03992024 -0.09596549\n",
            "  0.69608724  0.3340008  -0.37008512 -0.99996346  0.11522989  0.789267  ]\n",
            "Sequence Outputs Shape:(1, 128, 768)\n",
            "Sequence Outputs Values:[[-0.15877175  0.14607376  0.4397245  ... -0.31485036  0.32124412\n",
            "   0.3177712 ]\n",
            " [ 0.655604   -0.18834357  1.0243306  ... -0.44978327  0.01051338\n",
            "   0.2917596 ]\n",
            " [ 0.13443573 -0.35418382  1.0878258  ... -0.72293544 -0.1433889\n",
            "   0.23410873]\n",
            " ...\n",
            " [-0.07322031  0.24194683  0.11324858 ... -0.40200382  0.59162694\n",
            "  -0.32938677]\n",
            " [ 0.25970024  0.3040803   1.3485485  ...  0.17821062 -0.11198862\n",
            "  -0.10162549]\n",
            " [ 0.46989968  0.29996032  1.5466269  ... -0.04923912 -0.27422196\n",
            "   0.04177251]]\n"
          ]
        }
      ]
    },
    {
      "cell_type": "markdown",
      "source": [
        "### Modelo de Classificação: BERT Model + Sigmoid Function\n",
        "\n",
        "\n",
        "\n"
      ],
      "metadata": {
        "id": "TSV_ATefiiUB"
      }
    },
    {
      "cell_type": "code",
      "source": [
        "text_input = tf.keras.layers.Input(shape=(), dtype=tf.string, name='text')\n",
        "preprocessing_layer = hub.KerasLayer(tfhub_handle_preprocess, name='preprocessing')\n",
        "encoder_inputs = preprocessing_layer(text_input)\n",
        "encoder = hub.KerasLayer(tfhub_handle_encoder, trainable=True, name='BERT_encoder')\n",
        "outputs = encoder(encoder_inputs)\n",
        "net = outputs['pooled_output']\n",
        "net = tf.keras.layers.Dropout(0.1)(net)\n",
        "net = tf.keras.layers.Dense(num_classes, activation='sigmoid', name='classifier')(net)\n",
        "model = Model(text_input, net)\n",
        "\n",
        "model.summary()"
      ],
      "metadata": {
        "id": "LvWB8hO2jGCf",
        "colab": {
          "base_uri": "https://localhost:8080/"
        },
        "outputId": "75a468b7-ee9b-4b01-c89e-8f4fd0af3486"
      },
      "execution_count": 17,
      "outputs": [
        {
          "output_type": "stream",
          "name": "stdout",
          "text": [
            "Model: \"model\"\n",
            "__________________________________________________________________________________________________\n",
            " Layer (type)                   Output Shape         Param #     Connected to                     \n",
            "==================================================================================================\n",
            " text (InputLayer)              [(None,)]            0           []                               \n",
            "                                                                                                  \n",
            " preprocessing (KerasLayer)     {'input_word_ids':   0           ['text[0][0]']                   \n",
            "                                (None, 128),                                                      \n",
            "                                 'input_type_ids':                                                \n",
            "                                (None, 128),                                                      \n",
            "                                 'input_mask': (Non                                               \n",
            "                                e, 128)}                                                          \n",
            "                                                                                                  \n",
            " BERT_encoder (KerasLayer)      {'encoder_outputs':  109482241   ['preprocessing[0][0]',          \n",
            "                                 [(None, 128, 768),               'preprocessing[0][1]',          \n",
            "                                 (None, 128, 768),                'preprocessing[0][2]']          \n",
            "                                 (None, 128, 768),                                                \n",
            "                                 (None, 128, 768),                                                \n",
            "                                 (None, 128, 768),                                                \n",
            "                                 (None, 128, 768),                                                \n",
            "                                 (None, 128, 768),                                                \n",
            "                                 (None, 128, 768),                                                \n",
            "                                 (None, 128, 768),                                                \n",
            "                                 (None, 128, 768),                                                \n",
            "                                 (None, 128, 768),                                                \n",
            "                                 (None, 128, 768)],                                               \n",
            "                                 'default': (None,                                                \n",
            "                                768),                                                             \n",
            "                                 'pooled_output': (                                               \n",
            "                                None, 768),                                                       \n",
            "                                 'sequence_output':                                               \n",
            "                                 (None, 128, 768)}                                                \n",
            "                                                                                                  \n",
            " dropout (Dropout)              (None, 768)          0           ['BERT_encoder[0][13]']          \n",
            "                                                                                                  \n",
            " classifier (Dense)             (None, 3)            2307        ['dropout[0][0]']                \n",
            "                                                                                                  \n",
            "==================================================================================================\n",
            "Total params: 109,484,548\n",
            "Trainable params: 109,484,547\n",
            "Non-trainable params: 1\n",
            "__________________________________________________________________________________________________\n"
          ]
        }
      ]
    },
    {
      "cell_type": "markdown",
      "source": [
        "O ajuste do modelo para o treinamento consiste em utilizarmos um otimizador da classe SGD (*Stochastic Gradient Descent*), em que colocamos aleatoriamente um valor da taxa de aprendizado ```learning_rate=0.001```.\n",
        "\n",
        "Outra alteração se trata da função *loss* (que calcula o erro da modelo). Como temos um problema de classificação multiclasse, temos que empregar a função ```categorical_crossentropy```."
      ],
      "metadata": {
        "id": "peU5AQYB0Rc6"
      }
    },
    {
      "cell_type": "code",
      "source": [
        "#sgd = SGD(learning_rate=3e-5)\n",
        "\n",
        "adam = Adam(learning_rate=0.00001,decay = 1e-6)\n",
        "model.compile(loss=\"categorical_crossentropy\",optimizer=adam,metrics=['accuracy'])\n",
        "history_fine = model.fit(X_train,y_train_enc,validation_data=(X_valid,y_valid_enc),epochs=10)"
      ],
      "metadata": {
        "colab": {
          "base_uri": "https://localhost:8080/"
        },
        "id": "T95n0SaLzpj1",
        "outputId": "a5a17941-fc40-41df-dea4-8d512bc7611a"
      },
      "execution_count": null,
      "outputs": [
        {
          "output_type": "stream",
          "name": "stdout",
          "text": [
            "Epoch 1/10\n",
            "303/303 [==============================] - 16008s 53s/step - loss: 0.7233 - accuracy: 0.6773 - val_loss: 0.5837 - val_accuracy: 0.7485\n",
            "Epoch 2/10\n",
            "137/303 [============>.................] - ETA: 2:16:55 - loss: 0.4687 - accuracy: 0.8061"
          ]
        }
      ]
    },
    {
      "cell_type": "markdown",
      "source": [
        "Vamos analisar o comportamento da função *loss* no decorrer das épocas:"
      ],
      "metadata": {
        "id": "SVYG8Cut07Zi"
      }
    },
    {
      "cell_type": "code",
      "source": [
        "loss = history_fine.history['loss']\n",
        "val_loss = history_fine.history['val_loss']\n",
        "\n",
        "\n",
        "plt.plot(history_fine.history['loss'])\n",
        "plt.plot(history_fine.history['val_loss'])\n",
        "plt.title('model loss')\n",
        "plt.ylabel('loss')\n",
        "plt.xlabel('epoch')\n",
        "plt.legend(['training set','validation set'], loc='upper left')\n",
        "plt.show()"
      ],
      "metadata": {
        "id": "sUDT-dn41VLH"
      },
      "execution_count": null,
      "outputs": []
    },
    {
      "cell_type": "markdown",
      "source": [
        "O comportamento acima das curvas de loss mostra que o modelo aprende bem os padrões dos dados de treinamento, ganhando mais confiança nas suas classificações. Já a curva para os dados de validação (desconhecidos para o treinamento do modelo) mostram que a *loss* se estabiliza após algumas épocas.\n",
        "\n",
        "**O que fazer para melhorar?**\n",
        "\n",
        "Dá para fazer muita coisa...\n",
        "\n",
        "*   Otimização dos hiperparâmetros: altere a quantidade de camadas intermediárias, a quantidade de neurônios em cada camada intermediária, a quantidade de épocas de treinamento, o algoritmo de otimização (veja [aqui](https://keras.io/api/optimizers/) outros otimizadores);\n",
        "*   Etapas de pré-processamento dos *tweets*: remoção de URLs, @'s, etc...\n",
        "*   A caracterização dos *tweets* (por exemplo, o [BERT](https://keras.io/examples/nlp/text_extraction_with_bert/)!)...\n",
        "\n",
        "\n",
        "### Avaliação de performance utilizando os dados de teste\n",
        "\n",
        "Agora fazemos a classificação das instâncias do conjunto de teste utilizando o método *predict*. Observe que uma matriz é gerada na saída, em que cada linha representa um *tweet* e as colunas representam:\n",
        "\n",
        "\n",
        "*   Coluna $0$: probabilidade estimada do modelo em classificar o $i$-ésimo *tweet* como sendo da classe \"0\" (polaridade negativa)\n",
        "*   Coluna $1$: probabilidade estimada do modelo em classificar o $i$-ésimo *tweet* como sendo da classe \"1\" (polaridade neutra)\n",
        "*   Coluna $2$: probabilidade estimada do modelo em classificar o $i$-ésimo *tweet* como sendo da classe \"2\" (polaridade positiva)\n",
        "\n"
      ],
      "metadata": {
        "id": "uWuQ0prhiiY4"
      }
    },
    {
      "cell_type": "code",
      "source": [
        "y = model.predict(X_test)\n",
        "y"
      ],
      "metadata": {
        "id": "V1mox-in1dt-"
      },
      "execution_count": null,
      "outputs": []
    },
    {
      "cell_type": "markdown",
      "source": [
        "De maneira genérica, podemos calcular argmax das probabilidades, tomando-se as colunas como referência. Suponha que todas as probabilidades estejam na variável ```y_prob```, em que cada linha se trata de uma instância e teremos três colunas:\n",
        "\n",
        "*   ```y_prob[i][0]```: estimativa da probabilidade de classificar a $i$-ésima instância  de ```X_test``` como sendo da classe \"0\"\n",
        "*   ```y_prob[i][1]```: estimativa da probabilidade de classificar a $i$-ésima instância de ```X_test``` como sendo da classe \"1\"\n",
        "*   ```y_prob[i][2]```: estimativa da probabilidade de classificar a $i$-ésima instância de ```X_test``` como sendo da classe \"2\"\n",
        "\n",
        "Assim, com o uso de $argmax$, para cada instância $i$ podemos obter o índice $j$ da coluna associada à classe com a maior probabilidade:"
      ],
      "metadata": {
        "id": "Vlq2q3Fuk185"
      }
    },
    {
      "cell_type": "code",
      "source": [
        "y_prob = model.predict(X_test)\n",
        "y_pred = np.argmax(y_prob,axis=1)"
      ],
      "metadata": {
        "id": "ScVRiIVWk2px"
      },
      "execution_count": null,
      "outputs": []
    },
    {
      "cell_type": "markdown",
      "source": [
        "Vamos imprimir os resultados da classificação de *tweets* para os dados de teste:"
      ],
      "metadata": {
        "id": "_QjL-SHZrl7h"
      }
    },
    {
      "cell_type": "code",
      "source": [
        "print(classification_report(y_test,y_pred))"
      ],
      "metadata": {
        "id": "lSqjqALvrmDw"
      },
      "execution_count": null,
      "outputs": []
    },
    {
      "cell_type": "markdown",
      "source": [
        "Outra possibilidade é o uso do método *evaluate*:\n",
        "\n"
      ],
      "metadata": {
        "id": "PvAl8nUD2CQ9"
      }
    },
    {
      "cell_type": "code",
      "source": [
        "print(model.evaluate(tfidf_test,y_test_enc))"
      ],
      "metadata": {
        "id": "6RMsY7GK2E1r"
      },
      "execution_count": null,
      "outputs": []
    }
  ]
}