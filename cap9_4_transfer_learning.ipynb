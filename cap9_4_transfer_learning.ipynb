{
  "nbformat": 4,
  "nbformat_minor": 0,
  "metadata": {
    "colab": {
      "name": "cap9_3_transfer_learning.ipynb",
      "provenance": [],
      "authorship_tag": "ABX9TyM+IC4qDHh1t0OnqB5fJnQv",
      "include_colab_link": true
    },
    "kernelspec": {
      "name": "python3",
      "display_name": "Python 3"
    },
    "language_info": {
      "name": "python"
    },
    "accelerator": "GPU"
  },
  "cells": [
    {
      "cell_type": "markdown",
      "metadata": {
        "id": "view-in-github",
        "colab_type": "text"
      },
      "source": [
        "<a href=\"https://colab.research.google.com/github/viniciusrpb/cic0193_machinelearning/blob/main/cap9_4_transfer_learning.ipynb\" target=\"_parent\"><img src=\"https://colab.research.google.com/assets/colab-badge.svg\" alt=\"Open In Colab\"/></a>"
      ]
    },
    {
      "cell_type": "code",
      "metadata": {
        "id": "9Fc-T8Q38YDg"
      },
      "source": [
        "from keras.models import Sequential\n",
        "from keras.layers import Dense,MaxPooling2D,Activation,Flatten,Conv2D,BatchNormalization,Dropout\n",
        "from tensorflow.keras.optimizers import SGD\n",
        "from tensorflow.keras.preprocessing.image import ImageDataGenerator\n",
        "from tensorflow.keras import layers\n",
        "from tensorflow.keras import Model\n",
        "from sklearn.metrics import classification_report\n",
        "import numpy as np\n"
      ],
      "execution_count": 1,
      "outputs": []
    },
    {
      "cell_type": "code",
      "metadata": {
        "colab": {
          "base_uri": "https://localhost:8080/"
        },
        "id": "oKKnJGcy76R7",
        "outputId": "bb35947b-be96-47ef-d533-f989f3b7545e"
      },
      "source": [
        "from google.colab import drive\n",
        "drive.mount('/content/drive')"
      ],
      "execution_count": 2,
      "outputs": [
        {
          "output_type": "stream",
          "name": "stdout",
          "text": [
            "Mounted at /content/drive\n"
          ]
        }
      ]
    },
    {
      "cell_type": "code",
      "metadata": {
        "id": "zvIGbaPN8Dwj"
      },
      "source": [
        "!cp -r \"/content/drive/My Drive/leafs\" \"leafs\""
      ],
      "execution_count": 3,
      "outputs": []
    },
    {
      "cell_type": "code",
      "metadata": {
        "colab": {
          "base_uri": "https://localhost:8080/"
        },
        "id": "pZrYLKo59xBE",
        "outputId": "63b2d092-2f5f-4c62-9980-4307f2e5f3f2"
      },
      "source": [
        "train_datagen = ImageDataGenerator(rescale=1./255.,\n",
        "                                   validation_split=0.2)\n",
        "\n",
        "test_datagen = ImageDataGenerator(rescale=1./255.)\n",
        "\n",
        "train_set = train_datagen.flow_from_directory(\"leafs/train\",\n",
        "                                              subset='training',\n",
        "                                              target_size=(224,224),\n",
        "                                              class_mode=\"categorical\",\n",
        "                                              batch_size=32)\n",
        "\n",
        "validation_set = train_datagen.flow_from_directory(\"leafs/train\",\n",
        "                                              subset='validation',\n",
        "                                              target_size=(224,224),\n",
        "                                              class_mode=\"categorical\",\n",
        "                                              batch_size=32)\n",
        "\n",
        "test_set = test_datagen.flow_from_directory(\"leafs/test\",\n",
        "                                            target_size=(224,224),\n",
        "                                            class_mode=\"categorical\",\n",
        "                                            batch_size=32)\n",
        "\n"
      ],
      "execution_count": 15,
      "outputs": [
        {
          "output_type": "stream",
          "name": "stdout",
          "text": [
            "Found 160 images belonging to 4 classes.\n",
            "Found 40 images belonging to 4 classes.\n",
            "Found 100 images belonging to 4 classes.\n"
          ]
        }
      ]
    },
    {
      "cell_type": "code",
      "metadata": {
        "id": "nGHq3_m58Uf4"
      },
      "source": [
        "kernel_dimensions = (5,5)\n",
        "tam_strides = (1,1)\n",
        "number_filters = 50\n",
        "number_of_neurons = 30\n",
        "\n",
        "num_classes = 4"
      ],
      "execution_count": 5,
      "outputs": []
    },
    {
      "cell_type": "markdown",
      "metadata": {
        "id": "c4qZuGqqMr3e"
      },
      "source": [
        "Transfer Learning"
      ]
    },
    {
      "cell_type": "code",
      "metadata": {
        "id": "9NBE4rVgMr_k",
        "outputId": "fb530825-56f0-42c6-b764-be2dc8e7a94b",
        "colab": {
          "base_uri": "https://localhost:8080/"
        }
      },
      "source": [
        "from tensorflow.keras.applications.inception_v3 import InceptionV3\n",
        "\n",
        "pre_trained_model = InceptionV3(input_shape=(224,224,3),\n",
        "                                include_top=False,\n",
        "                                weights='imagenet')"
      ],
      "execution_count": 6,
      "outputs": [
        {
          "output_type": "stream",
          "name": "stdout",
          "text": [
            "Downloading data from https://storage.googleapis.com/tensorflow/keras-applications/inception_v3/inception_v3_weights_tf_dim_ordering_tf_kernels_notop.h5\n",
            "87916544/87910968 [==============================] - 2s 0us/step\n",
            "87924736/87910968 [==============================] - 2s 0us/step\n"
          ]
        }
      ]
    },
    {
      "cell_type": "code",
      "metadata": {
        "id": "wYTIdLmtOuEi"
      },
      "source": [
        "for layer in pre_trained_model.layers:\n",
        "  layer.trainable=False"
      ],
      "execution_count": 7,
      "outputs": []
    },
    {
      "cell_type": "code",
      "metadata": {
        "id": "mGo91gUzPHrJ"
      },
      "source": [
        "ans = layers.Flatten()(pre_trained_model.output)\n",
        "\n",
        "ans = layers.Dense(512,activation=\"relu\")(ans)\n",
        "\n",
        "ans = layers.Dropout(0.2)(ans)\n",
        "\n",
        "ans = layers.Dense(num_classes,activation=\"softmax\")(ans)\n",
        "\n",
        "model_tl = Model(pre_trained_model.input,ans)"
      ],
      "execution_count": 18,
      "outputs": []
    },
    {
      "cell_type": "code",
      "metadata": {
        "id": "WJ-FkpisQaVn"
      },
      "source": [
        "#model_tl.summary()"
      ],
      "execution_count": 9,
      "outputs": []
    },
    {
      "cell_type": "code",
      "metadata": {
        "id": "gyBGLURDQBKh"
      },
      "source": [
        "model_tl.compile(optimizer=SGD(learning_rate=0.1),\n",
        "                 loss = \"categorical_crossentropy\",\n",
        "                 metrics=[\"accuracy\"])"
      ],
      "execution_count": 23,
      "outputs": []
    },
    {
      "cell_type": "code",
      "metadata": {
        "id": "zx_AEzPXQPdg",
        "colab": {
          "base_uri": "https://localhost:8080/"
        },
        "outputId": "a7a1f8e3-6803-4a84-be42-623b8b7788e7"
      },
      "source": [
        "history_fine = model_tl.fit(train_set,\n",
        "                            epochs=20,\n",
        "                            validation_data=validation_set\n",
        "                            #initial_epoch=history.epoch[-1],\n",
        "                            )"
      ],
      "execution_count": 24,
      "outputs": [
        {
          "output_type": "stream",
          "name": "stdout",
          "text": [
            "Epoch 1/20\n",
            "5/5 [==============================] - 26s 5s/step - loss: 1.3874 - accuracy: 0.1937 - val_loss: 1.3862 - val_accuracy: 0.2500\n",
            "Epoch 2/20\n",
            "5/5 [==============================] - 22s 4s/step - loss: 1.3869 - accuracy: 0.2500 - val_loss: 1.3862 - val_accuracy: 0.2500\n",
            "Epoch 3/20\n",
            "5/5 [==============================] - 22s 4s/step - loss: 1.3871 - accuracy: 0.2250 - val_loss: 1.3862 - val_accuracy: 0.2500\n",
            "Epoch 4/20\n",
            "5/5 [==============================] - 22s 4s/step - loss: 1.3882 - accuracy: 0.2000 - val_loss: 1.3862 - val_accuracy: 0.2500\n",
            "Epoch 5/20\n",
            "5/5 [==============================] - 22s 4s/step - loss: 1.3873 - accuracy: 0.2313 - val_loss: 1.3862 - val_accuracy: 0.2500\n",
            "Epoch 6/20\n",
            "5/5 [==============================] - 22s 4s/step - loss: 1.3876 - accuracy: 0.2500 - val_loss: 1.3862 - val_accuracy: 0.2500\n",
            "Epoch 7/20\n",
            "5/5 [==============================] - 22s 4s/step - loss: 1.3865 - accuracy: 0.2375 - val_loss: 1.3861 - val_accuracy: 0.2500\n",
            "Epoch 8/20\n",
            "5/5 [==============================] - 22s 4s/step - loss: 1.3867 - accuracy: 0.2500 - val_loss: 1.3861 - val_accuracy: 0.2500\n",
            "Epoch 9/20\n",
            "5/5 [==============================] - 22s 4s/step - loss: 1.3879 - accuracy: 0.2500 - val_loss: 1.3861 - val_accuracy: 0.2500\n",
            "Epoch 10/20\n",
            "5/5 [==============================] - 22s 4s/step - loss: 1.3871 - accuracy: 0.2062 - val_loss: 1.3861 - val_accuracy: 0.2500\n",
            "Epoch 11/20\n",
            "5/5 [==============================] - 22s 4s/step - loss: 1.3875 - accuracy: 0.1875 - val_loss: 1.3861 - val_accuracy: 0.2500\n",
            "Epoch 12/20\n",
            "5/5 [==============================] - 22s 4s/step - loss: 1.3871 - accuracy: 0.2000 - val_loss: 1.3861 - val_accuracy: 0.2500\n",
            "Epoch 13/20\n",
            "5/5 [==============================] - 22s 4s/step - loss: 1.3872 - accuracy: 0.2062 - val_loss: 1.3861 - val_accuracy: 0.2500\n",
            "Epoch 14/20\n",
            "5/5 [==============================] - 22s 4s/step - loss: 1.3873 - accuracy: 0.2125 - val_loss: 1.3861 - val_accuracy: 0.2500\n",
            "Epoch 15/20\n",
            "5/5 [==============================] - 22s 4s/step - loss: 1.3874 - accuracy: 0.2062 - val_loss: 1.3861 - val_accuracy: 0.2500\n",
            "Epoch 16/20\n",
            "5/5 [==============================] - 23s 5s/step - loss: 1.3867 - accuracy: 0.2375 - val_loss: 1.3861 - val_accuracy: 0.2500\n",
            "Epoch 17/20\n",
            "5/5 [==============================] - 22s 4s/step - loss: 1.3876 - accuracy: 0.2000 - val_loss: 1.3861 - val_accuracy: 0.2500\n",
            "Epoch 18/20\n",
            "5/5 [==============================] - 23s 4s/step - loss: 1.3877 - accuracy: 0.1813 - val_loss: 1.3861 - val_accuracy: 0.2500\n",
            "Epoch 19/20\n",
            "5/5 [==============================] - 23s 4s/step - loss: 1.3869 - accuracy: 0.2125 - val_loss: 1.3861 - val_accuracy: 0.2500\n",
            "Epoch 20/20\n",
            "5/5 [==============================] - 22s 4s/step - loss: 1.3873 - accuracy: 0.2250 - val_loss: 1.3861 - val_accuracy: 0.2500\n"
          ]
        }
      ]
    },
    {
      "cell_type": "code",
      "metadata": {
        "id": "yypPWEBtSmZy",
        "outputId": "f917986b-0d32-4a7e-845a-f62bb047da81",
        "colab": {
          "base_uri": "https://localhost:8080/"
        }
      },
      "source": [
        "y_prob = model_tl.predict(test_set)\n",
        "y_pred = np.argmax(y_prob,axis=1)\n",
        "\n",
        "print(classification_report(test_set.classes,y_pred))"
      ],
      "execution_count": 25,
      "outputs": [
        {
          "output_type": "stream",
          "name": "stdout",
          "text": [
            "              precision    recall  f1-score   support\n",
            "\n",
            "           0       0.25      1.00      0.40        25\n",
            "           1       1.00      0.04      0.08        25\n",
            "           2       0.00      0.00      0.00        25\n",
            "           3       0.00      0.00      0.00        25\n",
            "\n",
            "    accuracy                           0.26       100\n",
            "   macro avg       0.31      0.26      0.12       100\n",
            "weighted avg       0.31      0.26      0.12       100\n",
            "\n"
          ]
        },
        {
          "output_type": "stream",
          "name": "stderr",
          "text": [
            "/usr/local/lib/python3.7/dist-packages/sklearn/metrics/_classification.py:1272: UndefinedMetricWarning: Precision and F-score are ill-defined and being set to 0.0 in labels with no predicted samples. Use `zero_division` parameter to control this behavior.\n",
            "  _warn_prf(average, modifier, msg_start, len(result))\n"
          ]
        }
      ]
    }
  ]
}