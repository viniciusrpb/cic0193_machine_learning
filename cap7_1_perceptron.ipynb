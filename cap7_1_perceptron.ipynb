{
  "nbformat": 4,
  "nbformat_minor": 0,
  "metadata": {
    "colab": {
      "name": "cap7_1_perceptron.ipynb",
      "provenance": [],
      "authorship_tag": "ABX9TyNvqKQo9BJfaPG0RPon8Ep6",
      "include_colab_link": true
    },
    "kernelspec": {
      "name": "python3",
      "display_name": "Python 3"
    },
    "language_info": {
      "name": "python"
    }
  },
  "cells": [
    {
      "cell_type": "markdown",
      "metadata": {
        "id": "view-in-github",
        "colab_type": "text"
      },
      "source": [
        "<a href=\"https://colab.research.google.com/github/viniciusrpb/cic0193_machinelearning/blob/main/cap7_1_perceptron.ipynb\" target=\"_parent\"><img src=\"https://colab.research.google.com/assets/colab-badge.svg\" alt=\"Open In Colab\"/></a>"
      ]
    },
    {
      "cell_type": "code",
      "metadata": {
        "id": "FU7LlM74x4RM"
      },
      "source": [
        "import numpy as np\n",
        "\n"
      ],
      "execution_count": 32,
      "outputs": []
    },
    {
      "cell_type": "code",
      "metadata": {
        "id": "UoRsCnhY4mtY"
      },
      "source": [
        "def activation(x,t,tipo):\n",
        "  if tipo == \"degrau\":\n",
        "    if x >= t:\n",
        "      return 1\n",
        "    else:\n",
        "      return 0\n",
        "  elif tipo == \"sinal\":\n",
        "    if x >= 0.0:\n",
        "      return 1\n",
        "    else:\n",
        "      return -1"
      ],
      "execution_count": 33,
      "outputs": []
    },
    {
      "cell_type": "code",
      "metadata": {
        "colab": {
          "base_uri": "https://localhost:8080/"
        },
        "id": "BXeqTpuw3Il9",
        "outputId": "c5a8c92b-d204-4127-b6b0-7c8701868792"
      },
      "source": [
        "entrada = [1.0, 0.2, 0.1, 0.7, 0.2]\n",
        "label = 0\n",
        "pesos = [0.2,0.1,0.4,0.6,0.9]\n",
        "\n",
        "input = np.array(entrada)\n",
        "weights = np.array(pesos)\n",
        "\n",
        "bias = 0.1\n",
        "\n",
        "net = np.dot(input,weights) + bias\n",
        "\n",
        "net"
      ],
      "execution_count": 34,
      "outputs": [
        {
          "output_type": "execute_result",
          "data": {
            "text/plain": [
              "0.96"
            ]
          },
          "metadata": {},
          "execution_count": 34
        }
      ]
    },
    {
      "cell_type": "code",
      "metadata": {
        "colab": {
          "base_uri": "https://localhost:8080/"
        },
        "id": "Anmvxlfe4cEb",
        "outputId": "36ca1ca8-4eda-4e5d-92cf-c1e8b1d8147c"
      },
      "source": [
        "threshold = 0.5\n",
        "\n",
        "y = activation(net,threshold,\"sinal\")\n",
        "\n",
        "y"
      ],
      "execution_count": 35,
      "outputs": [
        {
          "output_type": "execute_result",
          "data": {
            "text/plain": [
              "1"
            ]
          },
          "metadata": {},
          "execution_count": 35
        }
      ]
    },
    {
      "cell_type": "code",
      "metadata": {
        "id": "X3Qmb5Bn7Xq6"
      },
      "source": [
        "novos_pesos = []\n",
        "\n",
        "for i, x in enumerate(entrada):\n",
        "  novos_pesos.append(weights[i] + (label - y)*x)\n",
        "\n",
        "weights = np.array(novos_pesos)"
      ],
      "execution_count": 36,
      "outputs": []
    },
    {
      "cell_type": "code",
      "metadata": {
        "colab": {
          "base_uri": "https://localhost:8080/"
        },
        "id": "htKYAnWl8oLO",
        "outputId": "99b1ba1f-8406-414e-9d89-7f202ecf8469"
      },
      "source": [
        "weights"
      ],
      "execution_count": 37,
      "outputs": [
        {
          "output_type": "execute_result",
          "data": {
            "text/plain": [
              "array([-0.8, -0.1,  0.3, -0.1,  0.7])"
            ]
          },
          "metadata": {},
          "execution_count": 37
        }
      ]
    },
    {
      "cell_type": "markdown",
      "metadata": {
        "id": "su8iFcEc6NrT"
      },
      "source": [
        "Dados OR"
      ]
    },
    {
      "cell_type": "code",
      "metadata": {
        "id": "IH8XT8em5h5m"
      },
      "source": [
        "dados_or = [[0,0],[0,1],[1,0],[1,1]]\n",
        "\n",
        "labels = [0,1,1,1]"
      ],
      "execution_count": 38,
      "outputs": []
    },
    {
      "cell_type": "code",
      "metadata": {
        "colab": {
          "base_uri": "https://localhost:8080/"
        },
        "id": "SYJfr2k49phP",
        "outputId": "67354bb8-a419-4935-91bb-c01a855308cb"
      },
      "source": [
        "weights = np.random.random(2)/1000\n",
        "\n",
        "bias = np.random.random()/1000\n",
        "\n",
        "for id,exemplo in enumerate(dados_or):\n",
        "\n",
        "  \n",
        "  input = np.array(exemplo)\n",
        "\n",
        "  net = np.dot(input,weights) + bias\n",
        "\n",
        "  y = activation(net,threshold,\"degrau\")\n",
        "\n",
        "  print(\"predicted: {}\".format(y))\n",
        "  print(\"label: {}\".format(labels[id]))\n",
        "\n"
      ],
      "execution_count": 48,
      "outputs": [
        {
          "output_type": "stream",
          "name": "stdout",
          "text": [
            "predicted: 0\n",
            "label: 0\n",
            "predicted: 0\n",
            "label: 1\n",
            "predicted: 0\n",
            "label: 1\n",
            "predicted: 0\n",
            "label: 1\n"
          ]
        }
      ]
    },
    {
      "cell_type": "code",
      "metadata": {
        "colab": {
          "base_uri": "https://localhost:8080/"
        },
        "id": "3Y7EML9NDV8s",
        "outputId": "bdaaab85-ef6d-4d83-b017-4874b6e51960"
      },
      "source": [
        "k = 1\n",
        "\n",
        "weights = np.random.random(2)/1000\n",
        "\n",
        "bias = np.random.random()/1000\n",
        "\n",
        "# learning rate\n",
        "lr = 0.1\n",
        "\n",
        "#para cada epoch\n",
        "while k < 100:\n",
        "\n",
        "  erro = 0\n",
        "\n",
        "  for id,exemplo in enumerate(dados_or):\n",
        "    \n",
        "    input = np.array(exemplo)\n",
        "\n",
        "    net = np.dot(input,weights) + bias\n",
        "\n",
        "    y = activation(net,threshold,\"degrau\")\n",
        "\n",
        "    if y != labels[id]:\n",
        "      erro+=1\n",
        "\n",
        "    novos_pesos = []\n",
        "\n",
        "    for i, x in enumerate(exemplo):\n",
        "      novos_pesos.append(weights[i] + lr*(labels[id] - y)*x)\n",
        "\n",
        "    bias = bias + (labels[id] - y)\n",
        "\n",
        "    weights = np.array(novos_pesos)\n",
        "\n",
        "  print(\"iteracao: {} erros: {}\".format(k,erro))\n",
        "\n",
        "  k+=1"
      ],
      "execution_count": 56,
      "outputs": [
        {
          "output_type": "stream",
          "name": "stdout",
          "text": [
            "iteracao: 1 erros: 1\n",
            "iteracao: 2 erros: 2\n",
            "iteracao: 3 erros: 2\n",
            "iteracao: 4 erros: 2\n",
            "iteracao: 5 erros: 2\n",
            "iteracao: 6 erros: 2\n",
            "iteracao: 7 erros: 2\n",
            "iteracao: 8 erros: 2\n",
            "iteracao: 9 erros: 2\n",
            "iteracao: 10 erros: 2\n",
            "iteracao: 11 erros: 1\n",
            "iteracao: 12 erros: 0\n",
            "iteracao: 13 erros: 0\n",
            "iteracao: 14 erros: 0\n",
            "iteracao: 15 erros: 0\n",
            "iteracao: 16 erros: 0\n",
            "iteracao: 17 erros: 0\n",
            "iteracao: 18 erros: 0\n",
            "iteracao: 19 erros: 0\n",
            "iteracao: 20 erros: 0\n",
            "iteracao: 21 erros: 0\n",
            "iteracao: 22 erros: 0\n",
            "iteracao: 23 erros: 0\n",
            "iteracao: 24 erros: 0\n",
            "iteracao: 25 erros: 0\n",
            "iteracao: 26 erros: 0\n",
            "iteracao: 27 erros: 0\n",
            "iteracao: 28 erros: 0\n",
            "iteracao: 29 erros: 0\n",
            "iteracao: 30 erros: 0\n",
            "iteracao: 31 erros: 0\n",
            "iteracao: 32 erros: 0\n",
            "iteracao: 33 erros: 0\n",
            "iteracao: 34 erros: 0\n",
            "iteracao: 35 erros: 0\n",
            "iteracao: 36 erros: 0\n",
            "iteracao: 37 erros: 0\n",
            "iteracao: 38 erros: 0\n",
            "iteracao: 39 erros: 0\n",
            "iteracao: 40 erros: 0\n",
            "iteracao: 41 erros: 0\n",
            "iteracao: 42 erros: 0\n",
            "iteracao: 43 erros: 0\n",
            "iteracao: 44 erros: 0\n",
            "iteracao: 45 erros: 0\n",
            "iteracao: 46 erros: 0\n",
            "iteracao: 47 erros: 0\n",
            "iteracao: 48 erros: 0\n",
            "iteracao: 49 erros: 0\n",
            "iteracao: 50 erros: 0\n",
            "iteracao: 51 erros: 0\n",
            "iteracao: 52 erros: 0\n",
            "iteracao: 53 erros: 0\n",
            "iteracao: 54 erros: 0\n",
            "iteracao: 55 erros: 0\n",
            "iteracao: 56 erros: 0\n",
            "iteracao: 57 erros: 0\n",
            "iteracao: 58 erros: 0\n",
            "iteracao: 59 erros: 0\n",
            "iteracao: 60 erros: 0\n",
            "iteracao: 61 erros: 0\n",
            "iteracao: 62 erros: 0\n",
            "iteracao: 63 erros: 0\n",
            "iteracao: 64 erros: 0\n",
            "iteracao: 65 erros: 0\n",
            "iteracao: 66 erros: 0\n",
            "iteracao: 67 erros: 0\n",
            "iteracao: 68 erros: 0\n",
            "iteracao: 69 erros: 0\n",
            "iteracao: 70 erros: 0\n",
            "iteracao: 71 erros: 0\n",
            "iteracao: 72 erros: 0\n",
            "iteracao: 73 erros: 0\n",
            "iteracao: 74 erros: 0\n",
            "iteracao: 75 erros: 0\n",
            "iteracao: 76 erros: 0\n",
            "iteracao: 77 erros: 0\n",
            "iteracao: 78 erros: 0\n",
            "iteracao: 79 erros: 0\n",
            "iteracao: 80 erros: 0\n",
            "iteracao: 81 erros: 0\n",
            "iteracao: 82 erros: 0\n",
            "iteracao: 83 erros: 0\n",
            "iteracao: 84 erros: 0\n",
            "iteracao: 85 erros: 0\n",
            "iteracao: 86 erros: 0\n",
            "iteracao: 87 erros: 0\n",
            "iteracao: 88 erros: 0\n",
            "iteracao: 89 erros: 0\n",
            "iteracao: 90 erros: 0\n",
            "iteracao: 91 erros: 0\n",
            "iteracao: 92 erros: 0\n",
            "iteracao: 93 erros: 0\n",
            "iteracao: 94 erros: 0\n",
            "iteracao: 95 erros: 0\n",
            "iteracao: 96 erros: 0\n",
            "iteracao: 97 erros: 0\n",
            "iteracao: 98 erros: 0\n",
            "iteracao: 99 erros: 0\n"
          ]
        }
      ]
    },
    {
      "cell_type": "code",
      "metadata": {
        "id": "w6Hdfo8IM49T"
      },
      "source": [
        ""
      ],
      "execution_count": null,
      "outputs": []
    }
  ]
}