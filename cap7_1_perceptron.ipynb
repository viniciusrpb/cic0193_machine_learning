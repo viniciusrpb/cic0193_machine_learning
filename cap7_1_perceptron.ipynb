{
  "nbformat": 4,
  "nbformat_minor": 0,
  "metadata": {
    "colab": {
      "name": "cap7_1_perceptron.ipynb",
      "provenance": [],
      "authorship_tag": "ABX9TyNJMPuscYxjh/WDe8HE98XS",
      "include_colab_link": true
    },
    "kernelspec": {
      "name": "python3",
      "display_name": "Python 3"
    },
    "language_info": {
      "name": "python"
    }
  },
  "cells": [
    {
      "cell_type": "markdown",
      "metadata": {
        "id": "view-in-github",
        "colab_type": "text"
      },
      "source": [
        "<a href=\"https://colab.research.google.com/github/viniciusrpb/cic0193_machinelearning/blob/main/cap7_1_perceptron.ipynb\" target=\"_parent\"><img src=\"https://colab.research.google.com/assets/colab-badge.svg\" alt=\"Open In Colab\"/></a>"
      ]
    },
    {
      "cell_type": "code",
      "metadata": {
        "id": "FU7LlM74x4RM"
      },
      "source": [
        "import numpy as np\n",
        "\n"
      ],
      "execution_count": 32,
      "outputs": []
    },
    {
      "cell_type": "code",
      "metadata": {
        "id": "UoRsCnhY4mtY"
      },
      "source": [
        "def activation(x,t,tipo):\n",
        "  if tipo == \"degrau\":\n",
        "    if x >= t:\n",
        "      return 1\n",
        "    else:\n",
        "      return 0\n",
        "  elif tipo == \"sinal\":\n",
        "    if x >= 0.0:\n",
        "      return 1\n",
        "    else:\n",
        "      return -1"
      ],
      "execution_count": 33,
      "outputs": []
    },
    {
      "cell_type": "code",
      "metadata": {
        "colab": {
          "base_uri": "https://localhost:8080/"
        },
        "id": "BXeqTpuw3Il9",
        "outputId": "c5a8c92b-d204-4127-b6b0-7c8701868792"
      },
      "source": [
        "entrada = [1.0, 0.2, 0.1, 0.7, 0.2]\n",
        "label = 0\n",
        "pesos = [0.2,0.1,0.4,0.6,0.9]\n",
        "\n",
        "input = np.array(entrada)\n",
        "weights = np.array(pesos)\n",
        "\n",
        "bias = 0.1\n",
        "\n",
        "net = np.dot(input,weights) + bias\n",
        "\n",
        "net"
      ],
      "execution_count": 34,
      "outputs": [
        {
          "output_type": "execute_result",
          "data": {
            "text/plain": [
              "0.96"
            ]
          },
          "metadata": {},
          "execution_count": 34
        }
      ]
    },
    {
      "cell_type": "code",
      "metadata": {
        "colab": {
          "base_uri": "https://localhost:8080/"
        },
        "id": "Anmvxlfe4cEb",
        "outputId": "36ca1ca8-4eda-4e5d-92cf-c1e8b1d8147c"
      },
      "source": [
        "threshold = 0.5\n",
        "\n",
        "y = activation(net,threshold,\"sinal\")\n",
        "\n",
        "y"
      ],
      "execution_count": 35,
      "outputs": [
        {
          "output_type": "execute_result",
          "data": {
            "text/plain": [
              "1"
            ]
          },
          "metadata": {},
          "execution_count": 35
        }
      ]
    },
    {
      "cell_type": "code",
      "metadata": {
        "id": "X3Qmb5Bn7Xq6"
      },
      "source": [
        "novos_pesos = []\n",
        "\n",
        "for i, x in enumerate(entrada):\n",
        "  novos_pesos.append(weights[i] + (label - y)*x)\n",
        "\n",
        "weights = np.array(novos_pesos)"
      ],
      "execution_count": 36,
      "outputs": []
    },
    {
      "cell_type": "code",
      "metadata": {
        "colab": {
          "base_uri": "https://localhost:8080/"
        },
        "id": "htKYAnWl8oLO",
        "outputId": "99b1ba1f-8406-414e-9d89-7f202ecf8469"
      },
      "source": [
        "weights"
      ],
      "execution_count": 37,
      "outputs": [
        {
          "output_type": "execute_result",
          "data": {
            "text/plain": [
              "array([-0.8, -0.1,  0.3, -0.1,  0.7])"
            ]
          },
          "metadata": {},
          "execution_count": 37
        }
      ]
    },
    {
      "cell_type": "markdown",
      "metadata": {
        "id": "su8iFcEc6NrT"
      },
      "source": [
        "Dados OR"
      ]
    },
    {
      "cell_type": "code",
      "metadata": {
        "id": "IH8XT8em5h5m"
      },
      "source": [
        "dados_or = [[0,0],[0,1],[1,0],[1,1]]\n",
        "\n",
        "labels = [0,1,1,1]"
      ],
      "execution_count": 38,
      "outputs": []
    },
    {
      "cell_type": "code",
      "metadata": {
        "colab": {
          "base_uri": "https://localhost:8080/"
        },
        "id": "SYJfr2k49phP",
        "outputId": "b3fa2f22-5ea5-4526-b5cf-89ed66c004ef"
      },
      "source": [
        "weights = np.random.random(2)/100\n",
        "\n",
        "bias = np.random.random()/1000\n",
        "\n",
        "for id,exemplo in enumerate(dados_or):\n",
        "  input = np.array(exemplo)\n",
        "\n",
        "  net = np.dot(input,weights) + bias\n",
        "\n",
        "  y = activation(net,threshold,\"degrau\")\n",
        "\n",
        "  print(\"predicted: {}\".format(y))\n",
        "  print(\"label: {}\".format(labels[id]))\n",
        "\n"
      ],
      "execution_count": 39,
      "outputs": [
        {
          "output_type": "stream",
          "name": "stdout",
          "text": [
            "predicted: 0\n",
            "label: 0\n",
            "predicted: 0\n",
            "label: 1\n",
            "predicted: 0\n",
            "label: 1\n",
            "predicted: 0\n",
            "label: 1\n"
          ]
        }
      ]
    }
  ]
}