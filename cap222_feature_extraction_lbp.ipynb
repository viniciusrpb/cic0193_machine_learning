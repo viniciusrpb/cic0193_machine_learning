{
  "nbformat": 4,
  "nbformat_minor": 0,
  "metadata": {
    "colab": {
      "name": "cap222_feature_extraction_lbp.ipynb",
      "provenance": [],
      "authorship_tag": "ABX9TyPNvvNSzLWE0gR6clWlV/Mr",
      "include_colab_link": true
    },
    "kernelspec": {
      "name": "python3",
      "display_name": "Python 3"
    },
    "language_info": {
      "name": "python"
    }
  },
  "cells": [
    {
      "cell_type": "markdown",
      "metadata": {
        "id": "view-in-github",
        "colab_type": "text"
      },
      "source": [
        "<a href=\"https://colab.research.google.com/github/viniciusrpb/cic0193_machinelearning/blob/main/cap222_feature_extraction_lbp.ipynb\" target=\"_parent\"><img src=\"https://colab.research.google.com/assets/colab-badge.svg\" alt=\"Open In Colab\"/></a>"
      ]
    },
    {
      "cell_type": "code",
      "metadata": {
        "colab": {
          "base_uri": "https://localhost:8080/"
        },
        "id": "6piG3lvGptTH",
        "outputId": "b64278b8-954e-4bc8-893c-1a076ef65f4f"
      },
      "source": [
        "from google.colab import drive\n",
        "drive.mount('/content/drive',force_remount=True)"
      ],
      "execution_count": 2,
      "outputs": [
        {
          "output_type": "stream",
          "text": [
            "Mounted at /content/drive\n"
          ],
          "name": "stdout"
        }
      ]
    },
    {
      "cell_type": "code",
      "metadata": {
        "id": "K_2doMTWp0lP"
      },
      "source": [
        "cp -r \"/content/drive/My Drive/leafs\" \"leafs\""
      ],
      "execution_count": 3,
      "outputs": []
    },
    {
      "cell_type": "code",
      "metadata": {
        "id": "992OgrKNphbk"
      },
      "source": [
        "import numpy as np\n",
        "import matplotlib.pyplot as plt\n",
        "\n",
        "from os import listdir\n",
        "from imageio import imread\n",
        "from sklearn.feature_extraction.image import extract_patches_2d\n",
        "from sklearn.decomposition import PCA\n",
        "from sklearn.cluster import KMeans\n",
        "from joblib import Parallel, delayed\n",
        "from skimage import feature"
      ],
      "execution_count": 1,
      "outputs": []
    },
    {
      "cell_type": "code",
      "metadata": {
        "id": "q5THu-supo-4"
      },
      "source": [
        "def get_patches(img_file, random_state, patch_size=(11, 11), n_patches=250):\n",
        "    '''Extracts subimages\n",
        "       Parameters\n",
        "           img_file: path for an image\n",
        "           patch_size: size of each patch\n",
        "           n_patches: number of patches to be extracted\n",
        "    '''\n",
        "\n",
        "    img = imread(img_file)\n",
        "    \n",
        "    # Extract subimages\n",
        "    patch = extract_patches_2d(img, \n",
        "                               patch_size=patch_size,\n",
        "                               max_patches=n_patches, \n",
        "                               random_state=random_state)\n",
        "    \n",
        "    return patch.reshape((n_patches, \n",
        "                          np.prod(patch_size) * len(img.shape)))"
      ],
      "execution_count": null,
      "outputs": []
    },
    {
      "cell_type": "code",
      "metadata": {
        "id": "sXok0r0NqDf_"
      },
      "source": [
        "# BOF parameters\n",
        "tam_patch = (15, 15)\n",
        "n_patches = 250\n",
        "path_imgs = './images/flickr_map_training/'\n",
        "random_state = 1\n",
        "\n",
        "# get list of files\n",
        "l_imgs = listdir(path_imgs)\n",
        "# total of images\n",
        "n_imgs = len(l_imgs)\n",
        "\n",
        "# Extract patches in parallel\n",
        "# returns a list of the same size of the number of images\n",
        "patch_arr = Parallel(n_jobs=-1)(delayed(get_patches)(path_imgs+arq_img, \n",
        "                                                    random_state,\n",
        "                                                    tam_patch,\n",
        "                                                    n_patches)\n",
        "                                for arq_img in l_imgs)\n",
        "\n",
        "print('Patches extracted to create dictionary of features')\n",
        "print('Total of images = ', len(patch_arr))\n",
        "print('Size of each array of patches = ', patch_arr[0].shape)\n",
        "\n",
        "# shows some image patches\n",
        "img_ind = 32\n",
        "plt.figure(figsize=(8,3))\n",
        "for i in np.arange(1,11):\n",
        "    plt.subplot(2,5,i)\n",
        "    plt.imshow(patch_arr[img_ind][i].reshape((tam_patch[0],tam_patch[1],3)))\n",
        "    plt.axis('off')"
      ],
      "execution_count": null,
      "outputs": []
    },
    {
      "cell_type": "code",
      "metadata": {
        "id": "QpB09xF1qG_X"
      },
      "source": [
        "def lbp_features(img, radius=1, sampling_pixels=8):\n",
        "    \n",
        "    # LBP operates in single channel images so if RGB images are provided\n",
        "    # we have to convert it to grayscale\n",
        "    if (len(img.shape) > 2):\n",
        "        img = img.astype(float)\n",
        "        # RGB to grayscale convertion using Luminance\n",
        "        img = img[:,:,0]*0.3 + img[:,:,1]*0.59 + img[:,:,2]*0.11\n",
        "\n",
        "    # converting to uint8 type for 256 graylevels\n",
        "    img = img.astype(np.uint8)\n",
        "    \n",
        "    # normalize values can also help improving description\n",
        "    i_min = np.min(img)\n",
        "    i_max = np.max(img)\n",
        "    if (i_max - i_min != 0):\n",
        "        img = (img - i_min)/(i_max-i_min)\n",
        "    \n",
        "    # compute LBP\n",
        "    lbp = feature.local_binary_pattern(img, sampling_pixels, radius, method=\"uniform\")\n",
        "    \n",
        "    # LBP returns a matrix with the codes, so we compute the histogram\n",
        "    (hist, _) = np.histogram(lbp.ravel(), bins=np.arange(0, sampling_pixels + 3), range=(0, sampling_pixels + 2))\n",
        "\n",
        "    # normalization\n",
        "    hist = hist.astype(\"float\")\n",
        "    hist /= (hist.sum() + 1e-6)\n",
        "    # return the histogram of Local Binary Patterns\n",
        "    return hist"
      ],
      "execution_count": null,
      "outputs": []
    },
    {
      "cell_type": "code",
      "metadata": {
        "id": "WpcaDtqGvEwe"
      },
      "source": [
        "patch_arr = np.array(patch_arr, copy=True)\n",
        "patch_arr = patch_arr.reshape((patch_arr.shape[0] * patch_arr.shape[1],\n",
        "                               tam_patch[0],tam_patch[0],3))\n",
        "\n",
        "# obtaining features lbp for each patch\n",
        "patch_lbp = []\n",
        "for pat in patch_arr:\n",
        "        f = lbp_features(pat,2,8)\n",
        "        patch_lbp.append(f)\n",
        "\n",
        "patch_lbp = np.array(patch_lbp, copy=False)\n",
        "print('Instances = ', len(patch_lbp), ' size = ', patch_lbp[0].shape[0])\n",
        "print('Created LBP feature spaces')\n",
        "print('\\tpatches = ', len(patch_lbp), ' size = ', patch_lbp[0].shape[0])"
      ],
      "execution_count": null,
      "outputs": []
    },
    {
      "cell_type": "code",
      "metadata": {
        "id": "kWyUYtLjvHqE"
      },
      "source": [
        "n_dic = 50 # size of the dictionary\n",
        "random_state = 1\n",
        "\n",
        "# Define a KMeans clustering model\n",
        "kmeans_model = KMeans(n_clusters=n_dic, \n",
        "                      verbose=False, \n",
        "                      init='random',\n",
        "                      random_state=random_state, \n",
        "                      n_init=3)\n",
        "# fit the model\n",
        "kmeans_model.fit(patch_lbp)"
      ],
      "execution_count": null,
      "outputs": []
    }
  ]
}