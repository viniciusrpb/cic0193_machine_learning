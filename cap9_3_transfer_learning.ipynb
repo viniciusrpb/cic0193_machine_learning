{
  "nbformat": 4,
  "nbformat_minor": 0,
  "metadata": {
    "colab": {
      "name": "cap9_3_transfer_learning.ipynb",
      "provenance": [],
      "authorship_tag": "ABX9TyOTy4+PavVb6yIy86N/KxnV",
      "include_colab_link": true
    },
    "kernelspec": {
      "name": "python3",
      "display_name": "Python 3"
    },
    "language_info": {
      "name": "python"
    },
    "accelerator": "GPU"
  },
  "cells": [
    {
      "cell_type": "markdown",
      "metadata": {
        "id": "view-in-github",
        "colab_type": "text"
      },
      "source": [
        "<a href=\"https://colab.research.google.com/github/viniciusrpb/cic0193_machinelearning/blob/main/cap9_3_transfer_learning.ipynb\" target=\"_parent\"><img src=\"https://colab.research.google.com/assets/colab-badge.svg\" alt=\"Open In Colab\"/></a>"
      ]
    },
    {
      "cell_type": "code",
      "metadata": {
        "id": "9Fc-T8Q38YDg"
      },
      "source": [
        "from keras.models import Sequential\n",
        "from keras.layers import Dense,MaxPooling2D,Activation,Flatten,Conv2D,BatchNormalization,Dropout\n",
        "from tensorflow.keras.optimizers import SGD\n",
        "from tensorflow.keras.preprocessing.image import ImageDataGenerator\n",
        "from tensorflow.keras import layers\n",
        "from tensorflow.keras import Model\n",
        "from sklearn.metrics import classification_report\n",
        "import numpy as np\n"
      ],
      "execution_count": 62,
      "outputs": []
    },
    {
      "cell_type": "code",
      "metadata": {
        "colab": {
          "base_uri": "https://localhost:8080/"
        },
        "id": "oKKnJGcy76R7",
        "outputId": "d7cb822b-581e-40a2-d13a-bb8d3bdfed98"
      },
      "source": [
        "from google.colab import drive\n",
        "drive.mount('/content/drive')"
      ],
      "execution_count": 2,
      "outputs": [
        {
          "output_type": "stream",
          "name": "stdout",
          "text": [
            "Mounted at /content/drive\n"
          ]
        }
      ]
    },
    {
      "cell_type": "code",
      "metadata": {
        "id": "zvIGbaPN8Dwj"
      },
      "source": [
        "!cp -r \"/content/drive/My Drive/leafs\" \"leafs\""
      ],
      "execution_count": 3,
      "outputs": []
    },
    {
      "cell_type": "code",
      "metadata": {
        "colab": {
          "base_uri": "https://localhost:8080/"
        },
        "id": "pZrYLKo59xBE",
        "outputId": "0ad45eb3-6dfe-440d-95fa-00ecacba96ee"
      },
      "source": [
        "train_datagen = ImageDataGenerator(rescale=1./255.,\n",
        "                                   rotation_range =20,\n",
        "                                   fill_mode='nearest',\n",
        "                                   width_shift_range=0.2,\n",
        "                                   height_shift_range=0.2,\n",
        "                                   horizontal_flip=True,\n",
        "                                   vertical_flip=True,\n",
        "                                   validation_split=0.2)\n",
        "\n",
        "test_datagen = ImageDataGenerator(rescale=1./255.)\n",
        "\n",
        "train_set = train_datagen.flow_from_directory(\"leafs/train\",\n",
        "                                              subset='training',\n",
        "                                              target_size=(224,224),\n",
        "                                              class_mode=\"categorical\",\n",
        "                                              batch_size=32)\n",
        "\n",
        "validation_set = train_datagen.flow_from_directory(\"leafs/train\",\n",
        "                                              subset='validation',\n",
        "                                              target_size=(224,224),\n",
        "                                              class_mode=\"categorical\",\n",
        "                                              batch_size=32)\n",
        "\n",
        "test_set = test_datagen.flow_from_directory(\"leafs/test\",\n",
        "                                            target_size=(224,224),\n",
        "                                            class_mode=\"categorical\",\n",
        "                                            batch_size=32)\n",
        "\n"
      ],
      "execution_count": 56,
      "outputs": [
        {
          "output_type": "stream",
          "name": "stdout",
          "text": [
            "Found 160 images belonging to 4 classes.\n",
            "Found 40 images belonging to 4 classes.\n",
            "Found 100 images belonging to 4 classes.\n"
          ]
        }
      ]
    },
    {
      "cell_type": "code",
      "metadata": {
        "id": "nGHq3_m58Uf4"
      },
      "source": [
        "kernel_dimensions = (5,5)\n",
        "tam_strides = (1,1)\n",
        "number_filters = 50\n",
        "number_of_neurons = 30\n",
        "\n",
        "num_classes = 4"
      ],
      "execution_count": 43,
      "outputs": []
    },
    {
      "cell_type": "code",
      "metadata": {
        "id": "PDxQjC3I8UzI"
      },
      "source": [
        "model = Sequential()\n",
        "\n",
        "model.add(Conv2D(filters=number_filters,padding=\"same\",kernel_size=kernel_dimensions,input_shape=(224,224,3)))\n",
        "model.add(Activation('relu'))\n",
        "model.add(MaxPooling2D(2,2))\n",
        "\n",
        "model.add(Conv2D(filters=25,padding=\"same\",kernel_size=kernel_dimensions))\n",
        "model.add(Activation('relu'))\n",
        "model.add(MaxPooling2D(2,2))\n",
        "\n",
        "model.add(Conv2D(filters=15,padding=\"same\",kernel_size=kernel_dimensions))\n",
        "model.add(Activation('relu'))\n",
        "model.add(MaxPooling2D(2,2))\n",
        "\n",
        "model.add(Flatten())\n",
        "model.add(Dense(number_of_neurons))\n",
        "model.add(Activation(\"relu\"))\n",
        "#model.add(Dropout(0.5))\n",
        "model.add(Dense(num_classes))\n",
        "model.add(Activation(\"softmax\"))"
      ],
      "execution_count": 55,
      "outputs": []
    },
    {
      "cell_type": "code",
      "metadata": {
        "colab": {
          "base_uri": "https://localhost:8080/"
        },
        "id": "mGWmFOp_CCt3",
        "outputId": "5a65b5cc-a914-4f5f-e870-bc2ee1b7c597"
      },
      "source": [
        "model.summary()"
      ],
      "execution_count": 49,
      "outputs": [
        {
          "output_type": "stream",
          "name": "stdout",
          "text": [
            "Model: \"sequential_10\"\n",
            "_________________________________________________________________\n",
            "Layer (type)                 Output Shape              Param #   \n",
            "=================================================================\n",
            "conv2d_11 (Conv2D)           (None, 64, 64, 50)        3800      \n",
            "_________________________________________________________________\n",
            "activation_30 (Activation)   (None, 64, 64, 50)        0         \n",
            "_________________________________________________________________\n",
            "max_pooling2d_11 (MaxPooling (None, 32, 32, 50)        0         \n",
            "_________________________________________________________________\n",
            "conv2d_12 (Conv2D)           (None, 32, 32, 25)        31275     \n",
            "_________________________________________________________________\n",
            "activation_31 (Activation)   (None, 32, 32, 25)        0         \n",
            "_________________________________________________________________\n",
            "max_pooling2d_12 (MaxPooling (None, 16, 16, 25)        0         \n",
            "_________________________________________________________________\n",
            "conv2d_13 (Conv2D)           (None, 16, 16, 15)        9390      \n",
            "_________________________________________________________________\n",
            "activation_32 (Activation)   (None, 16, 16, 15)        0         \n",
            "_________________________________________________________________\n",
            "max_pooling2d_13 (MaxPooling (None, 8, 8, 15)          0         \n",
            "_________________________________________________________________\n",
            "flatten_10 (Flatten)         (None, 960)               0         \n",
            "_________________________________________________________________\n",
            "dense_19 (Dense)             (None, 30)                28830     \n",
            "_________________________________________________________________\n",
            "activation_33 (Activation)   (None, 30)                0         \n",
            "_________________________________________________________________\n",
            "dense_20 (Dense)             (None, 4)                 124       \n",
            "_________________________________________________________________\n",
            "activation_34 (Activation)   (None, 4)                 0         \n",
            "=================================================================\n",
            "Total params: 73,419\n",
            "Trainable params: 73,419\n",
            "Non-trainable params: 0\n",
            "_________________________________________________________________\n"
          ]
        }
      ]
    },
    {
      "cell_type": "code",
      "metadata": {
        "id": "TmUwtLZoCIpt"
      },
      "source": [
        "sgd = SGD(learning_rate=0.1)\n",
        "\n",
        "model.compile(loss='categorical_crossentropy',optimizer=sgd,metrics=['accuracy'])"
      ],
      "execution_count": 50,
      "outputs": []
    },
    {
      "cell_type": "code",
      "metadata": {
        "colab": {
          "base_uri": "https://localhost:8080/"
        },
        "id": "aJjbYhfFCdau",
        "outputId": "c52e8f5d-0b78-4278-85cb-9fc8424961fa"
      },
      "source": [
        "model.fit(train_set,validation_data=validation_set,epochs=10)"
      ],
      "execution_count": 51,
      "outputs": [
        {
          "output_type": "stream",
          "name": "stdout",
          "text": [
            "Epoch 1/10\n",
            "5/5 [==============================] - 15s 3s/step - loss: 1.3969 - accuracy: 0.2313 - val_loss: 1.3839 - val_accuracy: 0.3000\n",
            "Epoch 2/10\n",
            "5/5 [==============================] - 13s 3s/step - loss: 1.3905 - accuracy: 0.2438 - val_loss: 1.3851 - val_accuracy: 0.2750\n",
            "Epoch 3/10\n",
            "5/5 [==============================] - 13s 3s/step - loss: 1.3934 - accuracy: 0.1937 - val_loss: 1.3854 - val_accuracy: 0.2250\n",
            "Epoch 4/10\n",
            "5/5 [==============================] - 13s 3s/step - loss: 1.3896 - accuracy: 0.2188 - val_loss: 1.3831 - val_accuracy: 0.2500\n",
            "Epoch 5/10\n",
            "5/5 [==============================] - 13s 3s/step - loss: 1.3840 - accuracy: 0.2750 - val_loss: 1.3816 - val_accuracy: 0.3000\n",
            "Epoch 6/10\n",
            "5/5 [==============================] - 13s 3s/step - loss: 1.3832 - accuracy: 0.2875 - val_loss: 1.3790 - val_accuracy: 0.3000\n",
            "Epoch 7/10\n",
            "5/5 [==============================] - 12s 3s/step - loss: 1.3811 - accuracy: 0.2750 - val_loss: 1.3795 - val_accuracy: 0.2500\n",
            "Epoch 8/10\n",
            "5/5 [==============================] - 12s 3s/step - loss: 1.3794 - accuracy: 0.3000 - val_loss: 1.3762 - val_accuracy: 0.2250\n",
            "Epoch 9/10\n",
            "5/5 [==============================] - 12s 3s/step - loss: 1.3734 - accuracy: 0.3313 - val_loss: 1.3758 - val_accuracy: 0.2500\n",
            "Epoch 10/10\n",
            "5/5 [==============================] - 13s 3s/step - loss: 1.3940 - accuracy: 0.2750 - val_loss: 1.3805 - val_accuracy: 0.3000\n"
          ]
        },
        {
          "output_type": "execute_result",
          "data": {
            "text/plain": [
              "<keras.callbacks.History at 0x7f37dfad1e10>"
            ]
          },
          "metadata": {},
          "execution_count": 51
        }
      ]
    },
    {
      "cell_type": "code",
      "metadata": {
        "colab": {
          "base_uri": "https://localhost:8080/"
        },
        "id": "VgrknT6jCojM",
        "outputId": "32a2550e-acd6-4770-90df-bfaf5670ae6f"
      },
      "source": [
        "y_prob = model.predict(test_set)\n",
        "y_pred = np.argmax(y_prob,axis=1)\n",
        "\n",
        "print(classification_report(test_set.classes,y_pred))"
      ],
      "execution_count": 36,
      "outputs": [
        {
          "output_type": "stream",
          "name": "stdout",
          "text": [
            "              precision    recall  f1-score   support\n",
            "\n",
            "           0       0.25      1.00      0.40        25\n",
            "           1       0.00      0.00      0.00        25\n",
            "           2       0.00      0.00      0.00        25\n",
            "           3       0.00      0.00      0.00        25\n",
            "\n",
            "    accuracy                           0.25       100\n",
            "   macro avg       0.06      0.25      0.10       100\n",
            "weighted avg       0.06      0.25      0.10       100\n",
            "\n"
          ]
        },
        {
          "output_type": "stream",
          "name": "stderr",
          "text": [
            "/usr/local/lib/python3.7/dist-packages/sklearn/metrics/_classification.py:1272: UndefinedMetricWarning: Precision and F-score are ill-defined and being set to 0.0 in labels with no predicted samples. Use `zero_division` parameter to control this behavior.\n",
            "  _warn_prf(average, modifier, msg_start, len(result))\n"
          ]
        }
      ]
    },
    {
      "cell_type": "markdown",
      "metadata": {
        "id": "c4qZuGqqMr3e"
      },
      "source": [
        "Transfer Learning"
      ]
    },
    {
      "cell_type": "code",
      "metadata": {
        "id": "9NBE4rVgMr_k"
      },
      "source": [
        "from tensorflow.keras.applications.inception_v3 import InceptionV3\n",
        "\n",
        "pre_trained_model = InceptionV3(input_shape=(224,224,3),\n",
        "                                include_top=False,\n",
        "                                weights='imagenet')\n",
        "\n"
      ],
      "execution_count": 73,
      "outputs": []
    },
    {
      "cell_type": "code",
      "metadata": {
        "id": "wYTIdLmtOuEi"
      },
      "source": [
        "for layer in pre_trained_model.layers:\n",
        "  layer.trainable=False"
      ],
      "execution_count": 74,
      "outputs": []
    },
    {
      "cell_type": "code",
      "metadata": {
        "id": "mGo91gUzPHrJ"
      },
      "source": [
        "ans = layers.Flatten()(pre_trained_model.output)\n",
        "\n",
        "ans = layers.Dense(1024,activation=\"relu\")(ans)\n",
        "\n",
        "ans = layers.Dropout(0.2)(ans)\n",
        "\n",
        "ans = layers.Dense(num_classes,activation=\"softmax\")(ans)\n",
        "\n",
        "model_tl = Model(pre_trained_model.input,ans)"
      ],
      "execution_count": 75,
      "outputs": []
    },
    {
      "cell_type": "code",
      "metadata": {
        "id": "WJ-FkpisQaVn"
      },
      "source": [
        "#model_tl.summary()"
      ],
      "execution_count": 66,
      "outputs": []
    },
    {
      "cell_type": "code",
      "metadata": {
        "id": "gyBGLURDQBKh"
      },
      "source": [
        "model_tl.compile(optimizer=SGD(learning_rate=0.1),\n",
        "                 loss = \"categorical_crossentropy\",\n",
        "                 metrics=[\"accuracy\"])"
      ],
      "execution_count": 76,
      "outputs": []
    },
    {
      "cell_type": "code",
      "metadata": {
        "id": "zx_AEzPXQPdg",
        "outputId": "b6722893-9eb6-4c9c-c458-253194533fc8",
        "colab": {
          "base_uri": "https://localhost:8080/"
        }
      },
      "source": [
        "history_fine = model_tl.fit(train_set,\n",
        "                            epochs=20,\n",
        "                            validation_data=validation_set\n",
        "                            #initial_epoch=history.epoch[-1],\n",
        "                            )"
      ],
      "execution_count": 77,
      "outputs": [
        {
          "output_type": "stream",
          "name": "stdout",
          "text": [
            "Epoch 1/20\n",
            "5/5 [==============================] - 23s 4s/step - loss: 675.9012 - accuracy: 0.2625 - val_loss: 25.8998 - val_accuracy: 0.2500\n",
            "Epoch 2/20\n",
            "5/5 [==============================] - 15s 3s/step - loss: 65.5334 - accuracy: 0.2875 - val_loss: 1.3992 - val_accuracy: 0.3250\n",
            "Epoch 3/20\n",
            "5/5 [==============================] - 15s 3s/step - loss: 2.3431 - accuracy: 0.3125 - val_loss: 3.6120 - val_accuracy: 0.2500\n",
            "Epoch 4/20\n",
            "5/5 [==============================] - 15s 3s/step - loss: 8.0415 - accuracy: 0.2688 - val_loss: 1.3680 - val_accuracy: 0.2750\n",
            "Epoch 5/20\n",
            "5/5 [==============================] - 15s 3s/step - loss: 1.6780 - accuracy: 0.3000 - val_loss: 1.3273 - val_accuracy: 0.4250\n",
            "Epoch 6/20\n",
            "5/5 [==============================] - 15s 3s/step - loss: 2.1062 - accuracy: 0.3000 - val_loss: 1.3790 - val_accuracy: 0.2750\n",
            "Epoch 7/20\n",
            "5/5 [==============================] - 15s 3s/step - loss: 1.4339 - accuracy: 0.2438 - val_loss: 1.3864 - val_accuracy: 0.2500\n",
            "Epoch 8/20\n",
            "5/5 [==============================] - 15s 3s/step - loss: 1.4699 - accuracy: 0.3375 - val_loss: 6.7905 - val_accuracy: 0.2500\n",
            "Epoch 9/20\n",
            "5/5 [==============================] - 15s 3s/step - loss: 2.8257 - accuracy: 0.2812 - val_loss: 1.2076 - val_accuracy: 0.4000\n",
            "Epoch 10/20\n",
            "5/5 [==============================] - 15s 3s/step - loss: 1.3883 - accuracy: 0.2313 - val_loss: 1.3707 - val_accuracy: 0.2750\n",
            "Epoch 11/20\n",
            "5/5 [==============================] - 15s 3s/step - loss: 1.4063 - accuracy: 0.2188 - val_loss: 1.3872 - val_accuracy: 0.2500\n",
            "Epoch 12/20\n",
            "5/5 [==============================] - 15s 3s/step - loss: 1.3877 - accuracy: 0.2500 - val_loss: 1.3870 - val_accuracy: 0.2500\n",
            "Epoch 13/20\n",
            "5/5 [==============================] - 15s 3s/step - loss: 7.9699 - accuracy: 0.2812 - val_loss: 1.3872 - val_accuracy: 0.2500\n",
            "Epoch 14/20\n",
            "5/5 [==============================] - 15s 3s/step - loss: 1.3874 - accuracy: 0.2313 - val_loss: 1.3578 - val_accuracy: 0.2500\n",
            "Epoch 15/20\n",
            "5/5 [==============================] - 15s 3s/step - loss: 3.6628 - accuracy: 0.2875 - val_loss: 1.3886 - val_accuracy: 0.2500\n",
            "Epoch 16/20\n",
            "5/5 [==============================] - 15s 3s/step - loss: 1.3897 - accuracy: 0.2500 - val_loss: 1.3881 - val_accuracy: 0.2500\n",
            "Epoch 17/20\n",
            "5/5 [==============================] - 15s 3s/step - loss: 1.3888 - accuracy: 0.2188 - val_loss: 1.3830 - val_accuracy: 0.2500\n",
            "Epoch 18/20\n",
            "5/5 [==============================] - 15s 3s/step - loss: 1.3886 - accuracy: 0.2500 - val_loss: 1.3874 - val_accuracy: 0.2500\n",
            "Epoch 19/20\n",
            "5/5 [==============================] - 15s 3s/step - loss: 1.3848 - accuracy: 0.2500 - val_loss: 1.3244 - val_accuracy: 0.2500\n",
            "Epoch 20/20\n",
            "5/5 [==============================] - 15s 3s/step - loss: 1.3865 - accuracy: 0.2375 - val_loss: 1.3877 - val_accuracy: 0.2500\n"
          ]
        }
      ]
    }
  ]
}