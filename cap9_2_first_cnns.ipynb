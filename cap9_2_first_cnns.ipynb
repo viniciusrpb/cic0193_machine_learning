{
  "nbformat": 4,
  "nbformat_minor": 0,
  "metadata": {
    "accelerator": "GPU",
    "colab": {
      "name": "cap9_2_first_cnns.ipynb",
      "provenance": [],
      "collapsed_sections": [],
      "authorship_tag": "ABX9TyPS5K+2VFbUWwI6mDec4x/W",
      "include_colab_link": true
    },
    "kernelspec": {
      "display_name": "Python 3",
      "name": "python3"
    },
    "language_info": {
      "name": "python"
    }
  },
  "cells": [
    {
      "cell_type": "markdown",
      "metadata": {
        "id": "view-in-github",
        "colab_type": "text"
      },
      "source": [
        "<a href=\"https://colab.research.google.com/github/viniciusrpb/cic0193_machinelearning/blob/main/cap9_2_first_cnns.ipynb\" target=\"_parent\"><img src=\"https://colab.research.google.com/assets/colab-badge.svg\" alt=\"Open In Colab\"/></a>"
      ]
    },
    {
      "cell_type": "markdown",
      "metadata": {
        "id": "Qh0ZWibZtXyZ"
      },
      "source": [
        "# Capítulo 9\n",
        "\n",
        "### 9.2. Criando Redes Neurais Convolucionais\n"
      ]
    },
    {
      "cell_type": "code",
      "metadata": {
        "id": "sko_fRbqI4ap"
      },
      "source": [
        "from keras.models import Sequential\n",
        "from keras.layers import Dense,MaxPooling2D,Activation,Flatten,Conv2D,BatchNormalization,Dropout\n",
        "from tensorflow.keras.optimizers import SGD\n",
        "from tensorflow.keras.preprocessing.image import ImageDataGenerator\n",
        "from tensorflow.keras import layers\n",
        "from tensorflow.keras import Model\n",
        "from sklearn.metrics import classification_report\n",
        "import numpy as np\n",
        "from matplotlib import pyplot as plt"
      ],
      "execution_count": 38,
      "outputs": []
    },
    {
      "cell_type": "markdown",
      "metadata": {
        "id": "FctMSCS4wxqu"
      },
      "source": [
        "Carregando o conjunto de dados de folhas que utilizaremos como exemplo:\n",
        "\n",
        "Link para download: https://drive.google.com/file/d/1cP75d6lJ6SLt9W4ykz9IFVThpcfo3CTZ/view?usp=sharing"
      ]
    },
    {
      "cell_type": "code",
      "metadata": {
        "id": "whvCeVL6IvDr"
      },
      "source": [
        ""
      ],
      "execution_count": 38,
      "outputs": []
    },
    {
      "cell_type": "markdown",
      "metadata": {
        "id": "1s3MtjUD_58Q"
      },
      "source": [
        "### 9.2.2. Utilizando nossos próprios dados\n",
        "\n",
        "\n"
      ]
    },
    {
      "cell_type": "code",
      "metadata": {
        "id": "APEjn_A6Bton",
        "colab": {
          "base_uri": "https://localhost:8080/"
        },
        "outputId": "8eaaa124-f3a8-497b-ce25-597dd554ce66"
      },
      "source": [
        "from google.colab import drive\n",
        "drive.mount('/content/drive')"
      ],
      "execution_count": 39,
      "outputs": [
        {
          "output_type": "stream",
          "name": "stdout",
          "text": [
            "Drive already mounted at /content/drive; to attempt to forcibly remount, call drive.mount(\"/content/drive\", force_remount=True).\n"
          ]
        }
      ]
    },
    {
      "cell_type": "code",
      "metadata": {
        "id": "jf12eShWBsI4"
      },
      "source": [
        "!cp -r \"/content/drive/My Drive/leafs\" \"leafs\""
      ],
      "execution_count": 40,
      "outputs": []
    },
    {
      "cell_type": "markdown",
      "metadata": {
        "id": "RmcabwAgllZI"
      },
      "source": [
        "Deve-se considerar uma semente para garantir que os dados sejam \"bagunçados\" e selecionados na mesma ordem em diferentes execuções desse script.\n",
        "\n",
        "Observe que existem três DataGenerators separados para os dados de treinamento, validação (desenvolvimento) e teste. Assim, pode-se garantir que a Data Augmentation seja executada apenas no treinamento."
      ]
    },
    {
      "cell_type": "code",
      "metadata": {
        "colab": {
          "base_uri": "https://localhost:8080/"
        },
        "id": "sZ353JtFkj5c",
        "outputId": "42f07232-9546-49da-8efb-5c827222f861"
      },
      "source": [
        "train_datagen = ImageDataGenerator(rescale=1./255.,\n",
        "                                   rotation_range =20,\n",
        "                                   fill_mode='nearest',\n",
        "                                   width_shift_range=0.2,\n",
        "                                   height_shift_range=0.2,\n",
        "                                   horizontal_flip=True,\n",
        "                                   vertical_flip=True,\n",
        "                                   validation_split=0.2)\n",
        "\n",
        "validation_datagen = ImageDataGenerator(\n",
        "    rescale=1./255, \n",
        "    validation_split=0.2)\n",
        "\n",
        "test_datagen = ImageDataGenerator(rescale=1./255.)\n",
        "\n",
        "train_set = train_datagen.flow_from_directory(\"leafs/train\",\n",
        "                                              subset='training',\n",
        "                                              seed=42,\n",
        "                                              target_size=(128,128),\n",
        "                                              class_mode=\"categorical\",\n",
        "                                              shuffle=True,\n",
        "                                              batch_size=32)\n",
        "\n",
        "validation_set = validation_datagen.flow_from_directory(\"leafs/train\",\n",
        "                                              subset='validation',\n",
        "                                              target_size=(128,128),\n",
        "                                              seed=42,\n",
        "                                              shuffle=True,\n",
        "                                              class_mode=\"categorical\",\n",
        "                                              batch_size=32)\n",
        "\n",
        "test_set = test_datagen.flow_from_directory(\"leafs/test\",\n",
        "                                            target_size=(128,128),\n",
        "                                            class_mode=\"categorical\",\n",
        "                                            batch_size=32)"
      ],
      "execution_count": 41,
      "outputs": [
        {
          "output_type": "stream",
          "name": "stdout",
          "text": [
            "Found 160 images belonging to 4 classes.\n",
            "Found 40 images belonging to 4 classes.\n",
            "Found 100 images belonging to 4 classes.\n"
          ]
        }
      ]
    },
    {
      "cell_type": "code",
      "metadata": {
        "id": "iGMwj8XfEgb3"
      },
      "source": [
        "kernel_dimensions = (5,5)\n",
        "tam_strides = (1,1)\n",
        "number_filters = 100\n",
        "number_of_neurons = 30\n",
        "\n",
        "num_classes = 4"
      ],
      "execution_count": 42,
      "outputs": []
    },
    {
      "cell_type": "code",
      "metadata": {
        "id": "3F8Sfh4xD8c6"
      },
      "source": [
        "model = Sequential()\n",
        "\n",
        "model.add(Conv2D(filters=number_filters,padding=\"same\",kernel_size=kernel_dimensions,input_shape=(128,128,3)))\n",
        "model.add(Activation('relu'))\n",
        "model.add(MaxPooling2D(2,2))\n",
        "\n",
        "model.add(Conv2D(filters=50,padding=\"same\",kernel_size=kernel_dimensions))\n",
        "model.add(Activation('relu'))\n",
        "model.add(MaxPooling2D(2,2))\n",
        "\n",
        "model.add(Conv2D(filters=25,padding=\"same\",kernel_size=kernel_dimensions))\n",
        "model.add(Activation('relu'))\n",
        "model.add(MaxPooling2D(2,2))\n",
        "\n",
        "model.add(Conv2D(filters=15,padding=\"same\",kernel_size=kernel_dimensions))\n",
        "model.add(Activation('relu'))\n",
        "model.add(MaxPooling2D(2,2))\n",
        "\n",
        "model.add(Flatten())\n",
        "model.add(Dense(number_of_neurons))\n",
        "model.add(Activation(\"relu\"))\n",
        "#model.add(Dropout(0.5))\n",
        "model.add(Dense(num_classes))\n",
        "model.add(Activation(\"softmax\"))\n"
      ],
      "execution_count": 43,
      "outputs": []
    },
    {
      "cell_type": "code",
      "metadata": {
        "colab": {
          "base_uri": "https://localhost:8080/"
        },
        "id": "KEzt4ZLQSP9M",
        "outputId": "af3d56ce-4a57-4b32-cece-addc92300b4f"
      },
      "source": [
        "model.summary()"
      ],
      "execution_count": 44,
      "outputs": [
        {
          "output_type": "stream",
          "name": "stdout",
          "text": [
            "Model: \"sequential_3\"\n",
            "_________________________________________________________________\n",
            "Layer (type)                 Output Shape              Param #   \n",
            "=================================================================\n",
            "conv2d_10 (Conv2D)           (None, 128, 128, 100)     7600      \n",
            "_________________________________________________________________\n",
            "activation_16 (Activation)   (None, 128, 128, 100)     0         \n",
            "_________________________________________________________________\n",
            "max_pooling2d_10 (MaxPooling (None, 64, 64, 100)       0         \n",
            "_________________________________________________________________\n",
            "conv2d_11 (Conv2D)           (None, 64, 64, 50)        125050    \n",
            "_________________________________________________________________\n",
            "activation_17 (Activation)   (None, 64, 64, 50)        0         \n",
            "_________________________________________________________________\n",
            "max_pooling2d_11 (MaxPooling (None, 32, 32, 50)        0         \n",
            "_________________________________________________________________\n",
            "conv2d_12 (Conv2D)           (None, 32, 32, 25)        31275     \n",
            "_________________________________________________________________\n",
            "activation_18 (Activation)   (None, 32, 32, 25)        0         \n",
            "_________________________________________________________________\n",
            "max_pooling2d_12 (MaxPooling (None, 16, 16, 25)        0         \n",
            "_________________________________________________________________\n",
            "conv2d_13 (Conv2D)           (None, 16, 16, 15)        9390      \n",
            "_________________________________________________________________\n",
            "activation_19 (Activation)   (None, 16, 16, 15)        0         \n",
            "_________________________________________________________________\n",
            "max_pooling2d_13 (MaxPooling (None, 8, 8, 15)          0         \n",
            "_________________________________________________________________\n",
            "flatten_3 (Flatten)          (None, 960)               0         \n",
            "_________________________________________________________________\n",
            "dense_6 (Dense)              (None, 30)                28830     \n",
            "_________________________________________________________________\n",
            "activation_20 (Activation)   (None, 30)                0         \n",
            "_________________________________________________________________\n",
            "dense_7 (Dense)              (None, 4)                 124       \n",
            "_________________________________________________________________\n",
            "activation_21 (Activation)   (None, 4)                 0         \n",
            "=================================================================\n",
            "Total params: 202,269\n",
            "Trainable params: 202,269\n",
            "Non-trainable params: 0\n",
            "_________________________________________________________________\n"
          ]
        }
      ]
    },
    {
      "cell_type": "code",
      "metadata": {
        "id": "qzJqrABxSigg"
      },
      "source": [
        "sgd = SGD(learning_rate=0.1)\n",
        "\n",
        "model.compile(loss='categorical_crossentropy',optimizer=sgd,metrics=['accuracy'])"
      ],
      "execution_count": 45,
      "outputs": []
    },
    {
      "cell_type": "code",
      "metadata": {
        "id": "vPxBRdttTOWd",
        "colab": {
          "base_uri": "https://localhost:8080/"
        },
        "outputId": "98ec54ad-eb9a-470a-e7ac-ee5efea935c2"
      },
      "source": [
        "history = model.fit(train_set,validation_data=validation_set,epochs=20)"
      ],
      "execution_count": 46,
      "outputs": [
        {
          "output_type": "stream",
          "name": "stdout",
          "text": [
            "Epoch 1/20\n",
            "5/5 [==============================] - 17s 3s/step - loss: 1.3913 - accuracy: 0.2500 - val_loss: 1.3863 - val_accuracy: 0.2500\n",
            "Epoch 2/20\n",
            "5/5 [==============================] - 13s 3s/step - loss: 1.3878 - accuracy: 0.2438 - val_loss: 1.3913 - val_accuracy: 0.3250\n",
            "Epoch 3/20\n",
            "5/5 [==============================] - 13s 3s/step - loss: 1.3948 - accuracy: 0.2438 - val_loss: 1.3879 - val_accuracy: 0.2500\n",
            "Epoch 4/20\n",
            "5/5 [==============================] - 13s 3s/step - loss: 1.3893 - accuracy: 0.2250 - val_loss: 1.3863 - val_accuracy: 0.2500\n",
            "Epoch 5/20\n",
            "5/5 [==============================] - 13s 3s/step - loss: 1.3876 - accuracy: 0.2438 - val_loss: 1.3854 - val_accuracy: 0.2500\n",
            "Epoch 6/20\n",
            "5/5 [==============================] - 13s 3s/step - loss: 1.3877 - accuracy: 0.2250 - val_loss: 1.3848 - val_accuracy: 0.2500\n",
            "Epoch 7/20\n",
            "5/5 [==============================] - 13s 3s/step - loss: 1.3890 - accuracy: 0.2313 - val_loss: 1.3863 - val_accuracy: 0.3250\n",
            "Epoch 8/20\n",
            "5/5 [==============================] - 13s 3s/step - loss: 1.3900 - accuracy: 0.1937 - val_loss: 1.3851 - val_accuracy: 0.4000\n",
            "Epoch 9/20\n",
            "5/5 [==============================] - 13s 3s/step - loss: 1.3868 - accuracy: 0.2438 - val_loss: 1.3841 - val_accuracy: 0.2750\n",
            "Epoch 10/20\n",
            "5/5 [==============================] - 13s 3s/step - loss: 1.3868 - accuracy: 0.2937 - val_loss: 1.3843 - val_accuracy: 0.2500\n",
            "Epoch 11/20\n",
            "5/5 [==============================] - 13s 3s/step - loss: 1.3857 - accuracy: 0.3125 - val_loss: 1.3819 - val_accuracy: 0.4000\n",
            "Epoch 12/20\n",
            "5/5 [==============================] - 13s 3s/step - loss: 1.3853 - accuracy: 0.2937 - val_loss: 1.3821 - val_accuracy: 0.2250\n",
            "Epoch 13/20\n",
            "5/5 [==============================] - 13s 3s/step - loss: 1.3872 - accuracy: 0.2562 - val_loss: 1.3784 - val_accuracy: 0.4750\n",
            "Epoch 14/20\n",
            "5/5 [==============================] - 13s 3s/step - loss: 1.3857 - accuracy: 0.3000 - val_loss: 1.3858 - val_accuracy: 0.2500\n",
            "Epoch 15/20\n",
            "5/5 [==============================] - 13s 3s/step - loss: 1.3797 - accuracy: 0.3000 - val_loss: 1.3871 - val_accuracy: 0.2750\n",
            "Epoch 16/20\n",
            "5/5 [==============================] - 13s 3s/step - loss: 1.3929 - accuracy: 0.1813 - val_loss: 1.3835 - val_accuracy: 0.2250\n",
            "Epoch 17/20\n",
            "5/5 [==============================] - 13s 3s/step - loss: 1.3846 - accuracy: 0.2625 - val_loss: 1.3790 - val_accuracy: 0.4000\n",
            "Epoch 18/20\n",
            "5/5 [==============================] - 13s 3s/step - loss: 1.3816 - accuracy: 0.3187 - val_loss: 1.3703 - val_accuracy: 0.2750\n",
            "Epoch 19/20\n",
            "5/5 [==============================] - 13s 3s/step - loss: 1.3756 - accuracy: 0.3250 - val_loss: 1.3505 - val_accuracy: 0.3000\n",
            "Epoch 20/20\n",
            "5/5 [==============================] - 13s 3s/step - loss: 1.3870 - accuracy: 0.2688 - val_loss: 1.3527 - val_accuracy: 0.3500\n"
          ]
        }
      ]
    },
    {
      "cell_type": "code",
      "metadata": {
        "colab": {
          "base_uri": "https://localhost:8080/",
          "height": 295
        },
        "id": "pvVeobUXmzs8",
        "outputId": "8c84176c-9b05-4a31-e0d8-67250c6beb47"
      },
      "source": [
        "plt.plot(history.history['accuracy'])\n",
        "plt.plot(history.history['val_accuracy'])\n",
        "plt.title('model accuracy')\n",
        "plt.ylabel('accuracy')\n",
        "plt.xlabel('epochs')\n",
        "plt.legend(['training set', 'validation set'], loc='upper left')\n",
        "plt.show()"
      ],
      "execution_count": 47,
      "outputs": [
        {
          "output_type": "display_data",
          "data": {
            "image/png": "[encoded data removed]",
            "text/plain": [
              "<Figure size 432x288 with 1 Axes>"
            ]
          },
          "metadata": {
            "needs_background": "light"
          }
        }
      ]
    },
    {
      "cell_type": "code",
      "metadata": {
        "colab": {
          "base_uri": "https://localhost:8080/",
          "height": 295
        },
        "id": "WSdMbX-nnRdj",
        "outputId": "3f6b1c55-eb84-431b-bcca-d4074c9f624f"
      },
      "source": [
        "plt.plot(history.history['loss'])\n",
        "plt.plot(history.history['val_loss'])\n",
        "plt.title('model loss')\n",
        "plt.ylabel('loss')\n",
        "plt.xlabel('epoch')\n",
        "plt.legend(['training set', 'validation set'], loc='upper left')\n",
        "plt.show()"
      ],
      "execution_count": 48,
      "outputs": [
        {
          "output_type": "display_data",
          "data": {
            "image/png": "[encoded data removed]",
            "text/plain": [
              "<Figure size 432x288 with 1 Axes>"
            ]
          },
          "metadata": {
            "needs_background": "light"
          }
        }
      ]
    },
    {
      "cell_type": "code",
      "metadata": {
        "colab": {
          "base_uri": "https://localhost:8080/"
        },
        "id": "1pPWRN0lbwdW",
        "outputId": "475ae201-3a66-4ccb-86e4-4df6f24fb3b6"
      },
      "source": [
        "y_prob = model.predict(test_set)\n",
        "y_pred = np.argmax(y_prob,axis=1)\n",
        "\n",
        "print(classification_report(test_set.classes,y_pred))"
      ],
      "execution_count": 49,
      "outputs": [
        {
          "output_type": "stream",
          "name": "stdout",
          "text": [
            "              precision    recall  f1-score   support\n",
            "\n",
            "           0       0.43      0.12      0.19        25\n",
            "           1       0.20      0.04      0.07        25\n",
            "           2       0.00      0.00      0.00        25\n",
            "           3       0.26      0.92      0.41        25\n",
            "\n",
            "    accuracy                           0.27       100\n",
            "   macro avg       0.22      0.27      0.17       100\n",
            "weighted avg       0.22      0.27      0.17       100\n",
            "\n"
          ]
        },
        {
          "output_type": "stream",
          "name": "stderr",
          "text": [
            "/usr/local/lib/python3.7/dist-packages/sklearn/metrics/_classification.py:1272: UndefinedMetricWarning: Precision and F-score are ill-defined and being set to 0.0 in labels with no predicted samples. Use `zero_division` parameter to control this behavior.\n",
            "  _warn_prf(average, modifier, msg_start, len(result))\n"
          ]
        }
      ]
    },
    {
      "cell_type": "markdown",
      "metadata": {
        "id": "K-8gdjTbBegx"
      },
      "source": [
        "## Jargões\n",
        "\n",
        "Stride: pulo da evolução no processo de convolução entre uma imagem e um fitlro. O ideal é utilizarmos stride 1 ou 2 (caso a imagem seja grande). No stride 1, cada pixel da imagem é considerado na convolução, enquanto que no stride 2, o filtro é passado sobre a imagem a cada 2 pixels.\n",
        "\n",
        "Stride horizontal Stride vertical"
      ]
    }
  ]
}