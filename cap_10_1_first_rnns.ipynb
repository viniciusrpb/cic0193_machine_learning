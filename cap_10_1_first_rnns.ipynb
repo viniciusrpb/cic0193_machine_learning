{
  "nbformat": 4,
  "nbformat_minor": 0,
  "metadata": {
    "colab": {
      "name": "cap_10_1_first_rnns.ipynb",
      "provenance": [],
      "authorship_tag": "ABX9TyOUYSfVt9GARoPZkdy+sZnX",
      "include_colab_link": true
    },
    "kernelspec": {
      "name": "python3",
      "display_name": "Python 3"
    },
    "language_info": {
      "name": "python"
    },
    "accelerator": "GPU"
  },
  "cells": [
    {
      "cell_type": "markdown",
      "metadata": {
        "id": "view-in-github",
        "colab_type": "text"
      },
      "source": [
        "<a href=\"https://colab.research.google.com/github/viniciusrpb/cic0193_machinelearning/blob/main/cap_10_1_first_rnns.ipynb\" target=\"_parent\"><img src=\"https://colab.research.google.com/assets/colab-badge.svg\" alt=\"Open In Colab\"/></a>"
      ]
    },
    {
      "cell_type": "code",
      "metadata": {
        "id": "7halFn6bDR5I"
      },
      "source": [
        "from keras.datasets import reuters\n",
        "from keras.preprocessing import sequence\n",
        "from keras.utils.np_utils import to_categorical\n",
        "from keras.layers import Dense,SimpleRNN,Embedding,Activation,Dropout\n",
        "from keras.models import Sequential"
      ],
      "execution_count": 1,
      "outputs": []
    },
    {
      "cell_type": "code",
      "metadata": {
        "id": "V6zBfqXKPzia",
        "colab": {
          "base_uri": "https://localhost:8080/"
        },
        "outputId": "d9fe4b41-ec1c-4c89-84a8-2f0b0a10e27a"
      },
      "source": [
        "vocab_size = 10000\n",
        "\n",
        "(x_train,y_train),(x_test,y_test) = reuters.load_data(num_words=vocab_size,test_split=0.2)\n",
        "palavras = reuters.get_word_index()"
      ],
      "execution_count": 2,
      "outputs": [
        {
          "output_type": "stream",
          "name": "stdout",
          "text": [
            "Downloading data from https://storage.googleapis.com/tensorflow/tf-keras-datasets/reuters.npz\n",
            "2113536/2110848 [==============================] - 0s 0us/step\n",
            "2121728/2110848 [==============================] - 0s 0us/step\n",
            "Downloading data from https://storage.googleapis.com/tensorflow/tf-keras-datasets/reuters_word_index.json\n",
            "557056/550378 [==============================] - 0s 0us/step\n",
            "565248/550378 [==============================] - 0s 0us/step\n"
          ]
        }
      ]
    },
    {
      "cell_type": "code",
      "metadata": {
        "id": "YOhUDI3GRBiU"
      },
      "source": [
        "#x_train[0]"
      ],
      "execution_count": 3,
      "outputs": []
    },
    {
      "cell_type": "code",
      "metadata": {
        "colab": {
          "base_uri": "https://localhost:8080/"
        },
        "id": "MvpDCQRRQQw3",
        "outputId": "cc07234e-5c8b-4f5a-d668-3e51f8195c44"
      },
      "source": [
        "oqueisso = {}\n",
        "\n",
        "for key,value in palavras.items():\n",
        "  oqueisso[value] = key\n",
        "\n",
        "print(' '.join([oqueisso[x] for x in x_train[0]]))"
      ],
      "execution_count": 4,
      "outputs": [
        {
          "output_type": "stream",
          "name": "stdout",
          "text": [
            "the of of mln loss for plc said at only ended said commonwealth could 1 traders now april 0 a after said from 1985 and from foreign 000 april 0 prices its account year a but in this mln home an states earlier and rise and revs vs 000 its 16 vs 000 a but 3 psbr oils several and shareholders and dividend vs 000 its all 4 vs 000 1 mln agreed largely april 0 are 2 states will billion total and against 000 pct dlrs\n"
          ]
        }
      ]
    },
    {
      "cell_type": "code",
      "metadata": {
        "id": "99X0BGIIRZGy"
      },
      "source": [
        "num_classes = 46\n",
        "dimensions = 100\n",
        "num_neurons = 50\n",
        "num_embeddings = 50\n",
        "batch_size = 32\n",
        "epochs = 15"
      ],
      "execution_count": 5,
      "outputs": []
    },
    {
      "cell_type": "code",
      "metadata": {
        "colab": {
          "base_uri": "https://localhost:8080/"
        },
        "id": "HmAtWiqDRlAi",
        "outputId": "6804a96a-07a0-457e-d8f0-8980b2017abd"
      },
      "source": [
        "#for text in x_train:\n",
        "#  print(len(text))\n",
        "print(len(x_train[0]))"
      ],
      "execution_count": 6,
      "outputs": [
        {
          "output_type": "stream",
          "name": "stdout",
          "text": [
            "87\n"
          ]
        }
      ]
    },
    {
      "cell_type": "code",
      "metadata": {
        "id": "4H239HFSScjR"
      },
      "source": [
        "X_train = sequence.pad_sequences(x_train,maxlen=dimensions)\n",
        "X_test = sequence.pad_sequences(x_test,maxlen=dimensions)"
      ],
      "execution_count": 7,
      "outputs": []
    },
    {
      "cell_type": "code",
      "metadata": {
        "colab": {
          "base_uri": "https://localhost:8080/"
        },
        "id": "CERRoy72TQbe",
        "outputId": "9e9aac87-de41-4e68-8546-870c9bc0a7df"
      },
      "source": [
        "print(X_train.shape)"
      ],
      "execution_count": 8,
      "outputs": [
        {
          "output_type": "stream",
          "name": "stdout",
          "text": [
            "(8982, 100)\n"
          ]
        }
      ]
    },
    {
      "cell_type": "code",
      "metadata": {
        "colab": {
          "base_uri": "https://localhost:8080/"
        },
        "id": "buLUQnN_TeEo",
        "outputId": "1f688317-d837-4a3c-9acf-5db026fae146"
      },
      "source": [
        "X_train[0]"
      ],
      "execution_count": 9,
      "outputs": [
        {
          "output_type": "execute_result",
          "data": {
            "text/plain": [
              "array([   0,    0,    0,    0,    0,    0,    0,    0,    0,    0,    0,\n",
              "          0,    0,    1,    2,    2,    8,   43,   10,  447,    5,   25,\n",
              "        207,  270,    5, 3095,  111,   16,  369,  186,   90,   67,    7,\n",
              "         89,    5,   19,  102,    6,   19,  124,   15,   90,   67,   84,\n",
              "         22,  482,   26,    7,   48,    4,   49,    8,  864,   39,  209,\n",
              "        154,    6,  151,    6,   83,   11,   15,   22,  155,   11,   15,\n",
              "          7,   48,    9, 4579, 1005,  504,    6,  258,    6,  272,   11,\n",
              "         15,   22,  134,   44,   11,   15,   16,    8,  197, 1245,   90,\n",
              "         67,   52,   29,  209,   30,   32,  132,    6,  109,   15,   17,\n",
              "         12], dtype=int32)"
            ]
          },
          "metadata": {},
          "execution_count": 9
        }
      ]
    },
    {
      "cell_type": "code",
      "metadata": {
        "id": "a0HNzBY1T9o0"
      },
      "source": [
        "y_train = to_categorical(y_train)\n",
        "y_test = to_categorical(y_test)"
      ],
      "execution_count": 10,
      "outputs": []
    },
    {
      "cell_type": "code",
      "metadata": {
        "colab": {
          "base_uri": "https://localhost:8080/"
        },
        "id": "NcnG0pSoUVtD",
        "outputId": "81f44188-b157-4051-927f-b063694cbab8"
      },
      "source": [
        "model = Sequential()\n",
        "\n",
        "model.add(Embedding(vocab_size,num_embeddings))\n",
        "model.add(SimpleRNN(num_neurons))\n",
        "model.add(Dropout(0.5))\n",
        "model.add(Dense(46))\n",
        "model.add(Activation(\"softmax\"))\n",
        "\n",
        "model.summary()"
      ],
      "execution_count": 11,
      "outputs": [
        {
          "output_type": "stream",
          "name": "stdout",
          "text": [
            "Model: \"sequential\"\n",
            "_________________________________________________________________\n",
            "Layer (type)                 Output Shape              Param #   \n",
            "=================================================================\n",
            "embedding (Embedding)        (None, None, 50)          500000    \n",
            "_________________________________________________________________\n",
            "simple_rnn (SimpleRNN)       (None, 50)                5050      \n",
            "_________________________________________________________________\n",
            "dropout (Dropout)            (None, 50)                0         \n",
            "_________________________________________________________________\n",
            "dense (Dense)                (None, 46)                2346      \n",
            "_________________________________________________________________\n",
            "activation (Activation)      (None, 46)                0         \n",
            "=================================================================\n",
            "Total params: 507,396\n",
            "Trainable params: 507,396\n",
            "Non-trainable params: 0\n",
            "_________________________________________________________________\n"
          ]
        }
      ]
    },
    {
      "cell_type": "code",
      "metadata": {
        "id": "5n05AxZMV-PU"
      },
      "source": [
        "model.compile(loss='categorical_crossentropy',optimizer='adam',metrics=['accuracy'])"
      ],
      "execution_count": 12,
      "outputs": []
    },
    {
      "cell_type": "code",
      "metadata": {
        "colab": {
          "base_uri": "https://localhost:8080/"
        },
        "id": "Bpqui7C5VzsG",
        "outputId": "3839b310-a010-488e-92ec-55f918a91cb0"
      },
      "source": [
        "model.fit(X_train,y_train,batch_size=batch_size, epochs=epochs,validation_split=0.2)"
      ],
      "execution_count": 13,
      "outputs": [
        {
          "output_type": "stream",
          "name": "stdout",
          "text": [
            "Epoch 1/15\n",
            "225/225 [==============================] - 33s 133ms/step - loss: 2.7530 - accuracy: 0.3152 - val_loss: 2.2496 - val_accuracy: 0.4129\n",
            "Epoch 2/15\n",
            "225/225 [==============================] - 30s 131ms/step - loss: 2.2030 - accuracy: 0.4516 - val_loss: 2.0661 - val_accuracy: 0.4786\n",
            "Epoch 3/15\n",
            "225/225 [==============================] - 30s 133ms/step - loss: 1.9767 - accuracy: 0.5134 - val_loss: 2.0309 - val_accuracy: 0.4836\n",
            "Epoch 4/15\n",
            "225/225 [==============================] - 29s 130ms/step - loss: 1.7575 - accuracy: 0.5552 - val_loss: 1.9797 - val_accuracy: 0.4947\n",
            "Epoch 5/15\n",
            "225/225 [==============================] - 29s 131ms/step - loss: 1.4880 - accuracy: 0.6174 - val_loss: 1.9576 - val_accuracy: 0.5031\n",
            "Epoch 6/15\n",
            "225/225 [==============================] - 29s 131ms/step - loss: 1.2355 - accuracy: 0.7002 - val_loss: 2.1224 - val_accuracy: 0.4830\n",
            "Epoch 7/15\n",
            "225/225 [==============================] - 29s 128ms/step - loss: 1.0512 - accuracy: 0.7474 - val_loss: 2.1484 - val_accuracy: 0.4981\n",
            "Epoch 8/15\n",
            "225/225 [==============================] - 29s 130ms/step - loss: 0.8930 - accuracy: 0.7876 - val_loss: 2.2221 - val_accuracy: 0.5019\n",
            "Epoch 9/15\n",
            "225/225 [==============================] - 29s 129ms/step - loss: 0.7649 - accuracy: 0.8170 - val_loss: 2.3367 - val_accuracy: 0.4964\n",
            "Epoch 10/15\n",
            "225/225 [==============================] - 28s 126ms/step - loss: 0.6706 - accuracy: 0.8438 - val_loss: 2.3688 - val_accuracy: 0.5014\n",
            "Epoch 11/15\n",
            "225/225 [==============================] - 28s 127ms/step - loss: 0.5909 - accuracy: 0.8589 - val_loss: 2.4265 - val_accuracy: 0.5014\n",
            "Epoch 12/15\n",
            "225/225 [==============================] - 29s 127ms/step - loss: 0.5244 - accuracy: 0.8745 - val_loss: 2.5603 - val_accuracy: 0.4725\n",
            "Epoch 13/15\n",
            "225/225 [==============================] - 29s 128ms/step - loss: 0.4720 - accuracy: 0.8875 - val_loss: 2.5549 - val_accuracy: 0.4964\n",
            "Epoch 14/15\n",
            "225/225 [==============================] - 29s 130ms/step - loss: 0.4312 - accuracy: 0.8987 - val_loss: 2.7334 - val_accuracy: 0.4630\n",
            "Epoch 15/15\n",
            "225/225 [==============================] - 29s 131ms/step - loss: 0.4222 - accuracy: 0.9008 - val_loss: 2.7193 - val_accuracy: 0.4891\n"
          ]
        },
        {
          "output_type": "execute_result",
          "data": {
            "text/plain": [
              "<keras.callbacks.History at 0x7f4e7a1cf950>"
            ]
          },
          "metadata": {},
          "execution_count": 13
        }
      ]
    }
  ]
}