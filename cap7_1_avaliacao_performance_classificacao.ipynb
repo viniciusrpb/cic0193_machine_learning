{
  "nbformat": 4,
  "nbformat_minor": 0,
  "metadata": {
    "colab": {
      "name": "cap7_1_avaliacao_performance_classificacao.ipynb",
      "provenance": [],
      "collapsed_sections": [],
      "authorship_tag": "ABX9TyPDDqyoKdjCK0txrnTYXayb",
      "include_colab_link": true
    },
    "kernelspec": {
      "name": "python3",
      "display_name": "Python 3"
    },
    "language_info": {
      "name": "python"
    }
  },
  "cells": [
    {
      "cell_type": "markdown",
      "metadata": {
        "id": "view-in-github",
        "colab_type": "text"
      },
      "source": [
        "<a href=\"https://colab.research.google.com/github/viniciusrpb/cic0193_machinelearning/blob/main/cap7_1_avaliacao_performance_classificacao.ipynb\" target=\"_parent\"><img src=\"https://colab.research.google.com/assets/colab-badge.svg\" alt=\"Open In Colab\"/></a>"
      ]
    },
    {
      "cell_type": "code",
      "metadata": {
        "id": "4Y0ZDogPM9vH"
      },
      "source": [
        "import matplotlib.pyplot as plt\n",
        "import numpy as np\n",
        "import itertools"
      ],
      "execution_count": null,
      "outputs": []
    },
    {
      "cell_type": "code",
      "metadata": {
        "id": "nPmZKT33M55G"
      },
      "source": [
        "def plot_confusion_matrix(cm,\n",
        "                          target_names,\n",
        "                          title='Confusion matrix',\n",
        "                          cmap=None,\n",
        "                          normalize=False):\n",
        "    \n",
        "    \n",
        "\n",
        "    accuracy = np.trace(cm) / float(np.sum(cm))\n",
        "    misclass = 1 - accuracy\n",
        "\n",
        "    if cmap is None:\n",
        "        cmap = plt.get_cmap('Blues')\n",
        "\n",
        "    plt.figure(figsize=(8, 6))\n",
        "    plt.imshow(cm, interpolation='nearest', cmap=cmap)\n",
        "    plt.title(title)\n",
        "    plt.colorbar()\n",
        "\n",
        "    if target_names is not None:\n",
        "        tick_marks = np.arange(len(target_names))\n",
        "        plt.xticks(tick_marks, target_names, rotation=45)\n",
        "        plt.yticks(tick_marks, target_names)\n",
        "\n",
        "    if normalize:\n",
        "        cm = cm.astype('float') / cm.sum(axis=1)[:, np.newaxis]\n",
        "\n",
        "\n",
        "    thresh = cm.max() / 1.5 if normalize else cm.max() / 2\n",
        "    for i, j in itertools.product(range(cm.shape[0]), range(cm.shape[1])):\n",
        "        if normalize:\n",
        "            plt.text(j, i, \"{:0.4f}\".format(cm[i, j]),\n",
        "                     horizontalalignment=\"center\",\n",
        "                     color=\"white\" if cm[i, j] > thresh else \"black\")\n",
        "        else:\n",
        "            plt.text(j, i, \"{:,}\".format(cm[i, j]),\n",
        "                     horizontalalignment=\"center\",\n",
        "                     color=\"white\" if cm[i, j] > thresh else \"black\")\n",
        "\n",
        "\n",
        "    plt.tight_layout()\n",
        "    plt.ylabel('True label')\n",
        "    plt.xlabel('Predicted label\\naccuracy={:0.4f}; misclass={:0.4f}'.format(accuracy, misclass))\n",
        "    plt.show()"
      ],
      "execution_count": null,
      "outputs": []
    },
    {
      "cell_type": "code",
      "metadata": {
        "id": "wQXJssk4LX4Q"
      },
      "source": [
        "\n",
        "#problema de classificacao binaria\n",
        "# Positiva (1) e Negativa (0)\n",
        "# obs: de um conjunto de testes\n",
        "labels = [1,0,1,0,0,0,1,1,1,0]\n",
        "pred1 = [1,1,0,0,1,1,0,1,1,0]\n",
        "\n",
        "# predicao de um modelo 1 de classificacao\n",
        "\n",
        "\n",
        "# predicao de um modelo 2 de classificacao\n",
        "pred2 = [1,1,1,1,1,1,1,1,1,1]\n",
        "\n",
        "# predicao de um modelo 2 de classificacao\n",
        "pred3 = [0,0,0,0,0,0,0,0,0,0]\n",
        "\n",
        "# acuracia: taxa de classificacao correta"
      ],
      "execution_count": null,
      "outputs": []
    },
    {
      "cell_type": "code",
      "metadata": {
        "id": "iJrCEXF9LgUt"
      },
      "source": [
        "tp = 0.00000001\n",
        "fn = 0.00000001\n",
        "fp = 0.00000001\n",
        "tn = 0.00000001\n",
        "\n",
        "for i in range(N):\n",
        "    if labels[i] == 1 and pred1[i] ==1:\n",
        "        tp+=1\n",
        "    elif labels[i] == 1 and pred1[i] == 0:\n",
        "        fn+=1\n",
        "    elif labels[i] == 0 and pred1[i] == 1:\n",
        "        fp+=1\n",
        "    else:\n",
        "        tn+=1\n",
        "\n",
        "acc = (tp + tn)/(tp + tn+fp+fn)"
      ],
      "execution_count": null,
      "outputs": []
    },
    {
      "cell_type": "code",
      "metadata": {
        "colab": {
          "base_uri": "https://localhost:8080/",
          "height": 467
        },
        "id": "9dY_1oQIMtng",
        "outputId": "10cd4622-6354-45ff-81dc-d1b259cac393"
      },
      "source": [
        "plot_confusion_matrix(np.array(conf_matrix),[\"Classe P\",\"Classe N\"])"
      ],
      "execution_count": null,
      "outputs": [
        {
          "output_type": "display_data",
          "data": {
            "image/png": "[encoded data removed]",
            "text/plain": [
              "<Figure size 576x432 with 2 Axes>"
            ]
          },
          "metadata": {
            "needs_background": "light"
          }
        }
      ]
    },
    {
      "cell_type": "code",
      "metadata": {
        "id": "01P7H1lhNdA9"
      },
      "source": [
        "# curva roc receiving operator characteristics\n",
        "tpr = tp/(tp+fp)\n",
        "\n",
        "fpr = fp/(tp+fp)\n",
        "\n",
        "# focar apenas na classe positiva\n",
        "precision = tpr\n",
        "\n",
        "recall = tp/(tp+fn)\n",
        "\n",
        "print(\"precisao: \"+str(precision))\n",
        "print(\"revocacao: \"+str(recall))\n",
        "\n",
        "# f measure ou f1-score\n",
        "f1 = 2*recall*precision/(recall+precision)\n",
        "print(\"f1-score: \"+str(f1))"
      ],
      "execution_count": null,
      "outputs": []
    },
    {
      "cell_type": "code",
      "metadata": {
        "colab": {
          "base_uri": "https://localhost:8080/",
          "height": 130
        },
        "id": "b_NhHDxliBHS",
        "outputId": "6b978e3e-0373-44b1-b943-c7283dcab080"
      },
      "source": [
        "labels = [1,0,1,0,0,0,1,0,1,1]\n",
        "\n",
        "probs = [0.25,0.43,0.53,0.76,0.85,0.85,0.85]\n",
        "\n",
        "histograma = {0 : 0, 1 : 0}\n",
        "\n",
        "tp=fp=fn=tn=0\n",
        "\n",
        "for label in labels:\n",
        "  histograma[label]+=1\n",
        "\n",
        "\n",
        "tp+= histograma[1]\n",
        "fp+= histograma[0]\n",
        "tn = 0\n",
        "fn = 0\n",
        "\n",
        "tpr = tp/(tp+fp)\n",
        "fpr = tp/(tp+fn)\n",
        "\n",
        "pos = 1\n",
        "neg = 0\n",
        "\n",
        "for i in range(1,N):\n",
        "  \n",
        "  if labels[i] == 1:\n",
        "    tp+= histograma[1]\n",
        "    #histograma[1]-=1\n",
        "    #fn+= histograma[0]-tp\n",
        "    #fp-= histograma[0]\n",
        "    #histograma[0]-=1\n",
        "    tn+= histograma[0]-fp\n",
        "  else:\n",
        "    fp-= histograma[0]\n",
        "    #histograma[0]-=1\n",
        "    #tn+= histograma[0]-fp\n",
        "\n",
        "  print(tp)\n",
        "  print(fn)\n",
        "  print(fp)\n",
        "  print(tn)\n",
        "  \n",
        "  tpr = tp/(tp+fp)\n",
        "  fpr = tp/(tp+fn)\n",
        "\n",
        "N = len(labels)"
      ],
      "execution_count": null,
      "outputs": [
        {
          "output_type": "error",
          "ename": "IndentationError",
          "evalue": "ignored",
          "traceback": [
            "\u001b[0;36m  File \u001b[0;32m\"<ipython-input-72-b0586502dc77>\"\u001b[0;36m, line \u001b[0;32m23\u001b[0m\n\u001b[0;31m    print(tp)\u001b[0m\n\u001b[0m    ^\u001b[0m\n\u001b[0;31mIndentationError\u001b[0m\u001b[0;31m:\u001b[0m unexpected indent\n"
          ]
        }
      ]
    },
    {
      "cell_type": "code",
      "metadata": {
        "id": "QscZQdJXTdmF"
      },
      "source": [
        "import matplotlib.pyplot as plt\n",
        "   \n",
        "Year = [1920,1930,1940,1950,1960,1970,1980,1990,2000,2010]\n",
        "Unemployment_Rate = [9.8,12,8,7.2,6.9,7,6.5,6.2,5.5,6.3]\n",
        "  \n",
        "plt.plot(Year, Unemployment_Rate)\n",
        "plt.title('Unemployment Rate Vs Year')\n",
        "plt.xlabel('Year')\n",
        "plt.ylabel('Unemployment Rate')\n",
        "plt.show()"
      ],
      "execution_count": null,
      "outputs": []
    }
  ]
}