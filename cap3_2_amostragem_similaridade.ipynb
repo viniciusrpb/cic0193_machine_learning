{
  "nbformat": 4,
  "nbformat_minor": 0,
  "metadata": {
    "kernelspec": {
      "display_name": "Python 3",
      "language": "python",
      "name": "python3"
    },
    "language_info": {
      "codemirror_mode": {
        "name": "ipython",
        "version": 3
      },
      "file_extension": ".py",
      "mimetype": "text/x-python",
      "name": "python",
      "nbconvert_exporter": "python",
      "pygments_lexer": "ipython3",
      "version": "3.7.5"
    },
    "colab": {
      "name": "cap3_2_amostragem_similaridade.ipynb",
      "provenance": [],
      "include_colab_link": true
    }
  },
  "cells": [
    {
      "cell_type": "markdown",
      "metadata": {
        "id": "view-in-github",
        "colab_type": "text"
      },
      "source": [
        "<a href=\"https://colab.research.google.com/github/viniciusrpb/cic0193_machine_learning/blob/main/cap3_2_amostragem_similaridade.ipynb\" target=\"_parent\"><img src=\"https://colab.research.google.com/assets/colab-badge.svg\" alt=\"Open In Colab\"/></a>"
      ]
    },
    {
      "cell_type": "markdown",
      "source": [
        "## 3.2. Amostragem e Similaridade"
      ],
      "metadata": {
        "id": "HeTQ038YFhnE"
      }
    },
    {
      "cell_type": "code",
      "metadata": {
        "id": "L8e-Mu6-Cda3",
        "outputId": "57cc4f1e-51df-4911-924b-bff6482a2a5a"
      },
      "source": [
        "import splitfolders"
      ],
      "execution_count": null,
      "outputs": [
        {
          "output_type": "stream",
          "text": [
            "2424\n",
            "4747\n",
            "14645\n"
          ],
          "name": "stdout"
        }
      ]
    },
    {
      "cell_type": "code",
      "source": [
        "!pip install split-folders"
      ],
      "metadata": {
        "id": "1Sg6sLZRExRu"
      },
      "execution_count": null,
      "outputs": []
    },
    {
      "cell_type": "markdown",
      "source": [
        "Tem um folder com dados e necessita dividi-lo em subfolders de treinamento, validação e teste?\n",
        "\n",
        "Na opção abaixo, caso os dados não sejam tão desbalanceados, utilize o comando abaixo:"
      ],
      "metadata": {
        "id": "dkJhooqdEqLX"
      }
    },
    {
      "cell_type": "code",
      "source": [
        "input_path = \"CCSN_v2\"\n",
        "output_path = \"CCSN\"\n",
        "#colocamos aqui 70% dos dados para treinamento, 10% para validação e 20% para testes\n",
        "split = (.7, .1, .2)\n",
        "\n",
        "# Split with a ratio.\n",
        "# To only split into training and validation set, set a tuple to `ratio`, i.e, `(.8, .2)`.\n",
        "splitfolders.ratio(input_path, output=output_path,seed=1337, ratio=split, group_prefix=None, move=False) # default values\n",
        "\n"
      ],
      "metadata": {
        "id": "qAJKTlbgEwev"
      },
      "execution_count": null,
      "outputs": []
    },
    {
      "cell_type": "markdown",
      "source": [
        ""
      ],
      "metadata": {
        "id": "ibST0-8SFIzf"
      }
    },
    {
      "cell_type": "code",
      "source": [
        "# Split val/test with a fixed number of items, e.g. `(100, 100)`, for each set.\n",
        "# To only split into training and validation set, use a single number to `fixed`, i.e., `10`.\n",
        "# Set 3 values, e.g. `(300, 100, 100)`, to limit the number of training values.\n",
        "splitfolders.fixed(input_path, output=output_path, seed=1337, fixed=(100, 100), oversample=False, group_prefix=None, move=False) # default values"
      ],
      "metadata": {
        "id": "hIVVBLbJFI5N"
      },
      "execution_count": null,
      "outputs": []
    }
  ]
}